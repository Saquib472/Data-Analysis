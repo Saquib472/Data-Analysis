{
 "cells": [
  {
   "cell_type": "markdown",
   "id": "6106df9c",
   "metadata": {},
   "source": [
    "<h1 style='color:red; text-decoration:underline; font-size:30px;' align='center'>EDA + Missing Values + Outlier + ML</h1>"
   ]
  },
  {
   "cell_type": "markdown",
   "id": "c3e651e3",
   "metadata": {},
   "source": [
    "<p style =\"font-size:25px; color:purple\"><b>Dataset Description:</b></p>"
   ]
  },
  {
   "cell_type": "markdown",
   "id": "4a62e7ea",
   "metadata": {},
   "source": [
    "* **This dataset comes from the UCI repository of machine learning databases. The task is to predict if an individual's annual income excceds 50,000 based on census data.**\n",
    "* **Attribute Information:**\n",
    "1. **age: continuous.**\n",
    "2. **workclass: Private, Self-emp-not-inc, Self-emp-inc, Federal-gov, Local-gov, State-gov, Without-pay, Never-worked.**\n",
    "3. **fnlwgt: continuous.**\n",
    "4. **education: Bachelors, Some-college, 11th, HS-grad, Prof-school, Assoc-acdm, Assoc-voc, 9th, 7th-8th, 12th, Masters, 1st-4th, 10th, Doctorate, 5th-6th, Preschool.**\n",
    "5. **education-num: continuous.**\n",
    "6. **marital-status: Married-civ-spouse, Divorced, Never-married, Separated, Widowed, Married-spouse-absent, Married-AF-spouse.**\n",
    "7. **occupation: Tech-support, Craft-repair, Other-service, Sales, Exec-managerial, Prof-specialty, Handlers-cleaners, Machine-op-inspct, Adm-clerical, Farming-fishing, Transport-moving, Priv-house-serv, Protective-serv, Armed-Forces.**\n",
    "8. **relationship: Wife, Own-child, Husband, Not-in-family, Other-relative, Unmarried.**\n",
    "9. **race: White, Asian-Pac-Islander, Amer-Indian-Eskimo, Other, Black.**\n",
    "10. **sex: Female, Male**\n",
    "11. **capital-gain: continuous.**\n",
    "12. **capital-loss: continuous.**\n",
    "13. **hours-per-week: continuous.**\n",
    "14. **native-country: United-States, Cambodia, England, Puerto-Rico, Canada, Germany, Outlying-US(Guam-USVI-etc), India, Japan, Greece, South, China, Cuba, Iran, Honduras, Philippines, Italy, Poland, Jamaica, Vietnam, Mexico, Portugal, Ireland, France, Dominican-Republic, Laos, Ecuador, Taiwan, Haiti, Columbia, Hungary, Guatemala, Nicaragua, Scotland, Thailand, Yugoslavia, El-Salvador, Trinadad&Tobago, Peru, Hong, Holand-Netherlands.**\n",
    "15. **class: >50K, <=50K**"
   ]
  },
  {
   "cell_type": "markdown",
   "id": "2f9f2c6b",
   "metadata": {},
   "source": [
    "<p style =\"font-size:25px; color:purple\"><b>Importing some neccessary libraries:</b></p>"
   ]
  },
  {
   "cell_type": "code",
   "execution_count": 1,
   "id": "6178b743",
   "metadata": {},
   "outputs": [],
   "source": [
    "# It Will ignore some unneccessery warnings\n",
    "import warnings\n",
    "warnings.filterwarnings('ignore')"
   ]
  },
  {
   "cell_type": "code",
   "execution_count": 2,
   "id": "3a79cc1f",
   "metadata": {},
   "outputs": [],
   "source": [
    "import numpy as np\n",
    "import pandas as pd \n",
    "import matplotlib.pyplot as plt\n",
    "%matplotlib inline\n",
    "import seaborn as sns\n",
    "from scipy import stats"
   ]
  },
  {
   "cell_type": "markdown",
   "id": "5c1b694e",
   "metadata": {},
   "source": [
    "<p style =\"font-size:25px; color:purple\"><b>Importing and exploring the data:</b></p>"
   ]
  },
  {
   "cell_type": "code",
   "execution_count": 3,
   "id": "5bffc006",
   "metadata": {},
   "outputs": [
    {
     "data": {
      "text/html": [
       "<div>\n",
       "<style scoped>\n",
       "    .dataframe tbody tr th:only-of-type {\n",
       "        vertical-align: middle;\n",
       "    }\n",
       "\n",
       "    .dataframe tbody tr th {\n",
       "        vertical-align: top;\n",
       "    }\n",
       "\n",
       "    .dataframe thead th {\n",
       "        text-align: right;\n",
       "    }\n",
       "</style>\n",
       "<table border=\"1\" class=\"dataframe\">\n",
       "  <thead>\n",
       "    <tr style=\"text-align: right;\">\n",
       "      <th></th>\n",
       "      <th>age</th>\n",
       "      <th>workclass</th>\n",
       "      <th>fnlwgt</th>\n",
       "      <th>education</th>\n",
       "      <th>educational-num</th>\n",
       "      <th>marital-status</th>\n",
       "      <th>occupation</th>\n",
       "      <th>relationship</th>\n",
       "      <th>race</th>\n",
       "      <th>gender</th>\n",
       "      <th>capital-gain</th>\n",
       "      <th>capital-loss</th>\n",
       "      <th>hours-per-week</th>\n",
       "      <th>native-country</th>\n",
       "      <th>income</th>\n",
       "    </tr>\n",
       "  </thead>\n",
       "  <tbody>\n",
       "    <tr>\n",
       "      <th>0</th>\n",
       "      <td>25</td>\n",
       "      <td>Private</td>\n",
       "      <td>226802</td>\n",
       "      <td>11th</td>\n",
       "      <td>7</td>\n",
       "      <td>Never-married</td>\n",
       "      <td>Machine-op-inspct</td>\n",
       "      <td>Own-child</td>\n",
       "      <td>Black</td>\n",
       "      <td>Male</td>\n",
       "      <td>0</td>\n",
       "      <td>0</td>\n",
       "      <td>40</td>\n",
       "      <td>United-States</td>\n",
       "      <td>&lt;=50K</td>\n",
       "    </tr>\n",
       "    <tr>\n",
       "      <th>1</th>\n",
       "      <td>38</td>\n",
       "      <td>Private</td>\n",
       "      <td>89814</td>\n",
       "      <td>HS-grad</td>\n",
       "      <td>9</td>\n",
       "      <td>Married-civ-spouse</td>\n",
       "      <td>Farming-fishing</td>\n",
       "      <td>Husband</td>\n",
       "      <td>White</td>\n",
       "      <td>Male</td>\n",
       "      <td>0</td>\n",
       "      <td>0</td>\n",
       "      <td>50</td>\n",
       "      <td>United-States</td>\n",
       "      <td>&lt;=50K</td>\n",
       "    </tr>\n",
       "    <tr>\n",
       "      <th>2</th>\n",
       "      <td>28</td>\n",
       "      <td>Local-gov</td>\n",
       "      <td>336951</td>\n",
       "      <td>Assoc-acdm</td>\n",
       "      <td>12</td>\n",
       "      <td>Married-civ-spouse</td>\n",
       "      <td>Protective-serv</td>\n",
       "      <td>Husband</td>\n",
       "      <td>White</td>\n",
       "      <td>Male</td>\n",
       "      <td>0</td>\n",
       "      <td>0</td>\n",
       "      <td>40</td>\n",
       "      <td>United-States</td>\n",
       "      <td>&gt;50K</td>\n",
       "    </tr>\n",
       "    <tr>\n",
       "      <th>3</th>\n",
       "      <td>44</td>\n",
       "      <td>Private</td>\n",
       "      <td>160323</td>\n",
       "      <td>Some-college</td>\n",
       "      <td>10</td>\n",
       "      <td>Married-civ-spouse</td>\n",
       "      <td>Machine-op-inspct</td>\n",
       "      <td>Husband</td>\n",
       "      <td>Black</td>\n",
       "      <td>Male</td>\n",
       "      <td>7688</td>\n",
       "      <td>0</td>\n",
       "      <td>40</td>\n",
       "      <td>United-States</td>\n",
       "      <td>&gt;50K</td>\n",
       "    </tr>\n",
       "    <tr>\n",
       "      <th>4</th>\n",
       "      <td>18</td>\n",
       "      <td>?</td>\n",
       "      <td>103497</td>\n",
       "      <td>Some-college</td>\n",
       "      <td>10</td>\n",
       "      <td>Never-married</td>\n",
       "      <td>?</td>\n",
       "      <td>Own-child</td>\n",
       "      <td>White</td>\n",
       "      <td>Female</td>\n",
       "      <td>0</td>\n",
       "      <td>0</td>\n",
       "      <td>30</td>\n",
       "      <td>United-States</td>\n",
       "      <td>&lt;=50K</td>\n",
       "    </tr>\n",
       "  </tbody>\n",
       "</table>\n",
       "</div>"
      ],
      "text/plain": [
       "   age  workclass  fnlwgt     education  educational-num      marital-status  \\\n",
       "0   25    Private  226802          11th                7       Never-married   \n",
       "1   38    Private   89814       HS-grad                9  Married-civ-spouse   \n",
       "2   28  Local-gov  336951    Assoc-acdm               12  Married-civ-spouse   \n",
       "3   44    Private  160323  Some-college               10  Married-civ-spouse   \n",
       "4   18          ?  103497  Some-college               10       Never-married   \n",
       "\n",
       "          occupation relationship   race  gender  capital-gain  capital-loss  \\\n",
       "0  Machine-op-inspct    Own-child  Black    Male             0             0   \n",
       "1    Farming-fishing      Husband  White    Male             0             0   \n",
       "2    Protective-serv      Husband  White    Male             0             0   \n",
       "3  Machine-op-inspct      Husband  Black    Male          7688             0   \n",
       "4                  ?    Own-child  White  Female             0             0   \n",
       "\n",
       "   hours-per-week native-country income  \n",
       "0              40  United-States  <=50K  \n",
       "1              50  United-States  <=50K  \n",
       "2              40  United-States   >50K  \n",
       "3              40  United-States   >50K  \n",
       "4              30  United-States  <=50K  "
      ]
     },
     "execution_count": 3,
     "metadata": {},
     "output_type": "execute_result"
    }
   ],
   "source": [
    "df = pd.read_csv(\"data/adult.csv\")\n",
    "df.head()"
   ]
  },
  {
   "cell_type": "code",
   "execution_count": 4,
   "id": "e4f9e596",
   "metadata": {},
   "outputs": [
    {
     "data": {
      "text/plain": [
       "(48842, 15)"
      ]
     },
     "execution_count": 4,
     "metadata": {},
     "output_type": "execute_result"
    }
   ],
   "source": [
    "df.shape #(number of rows , number of columns)"
   ]
  },
  {
   "cell_type": "code",
   "execution_count": 5,
   "id": "f0516e1d",
   "metadata": {},
   "outputs": [
    {
     "data": {
      "text/plain": [
       "Index(['age', 'workclass', 'fnlwgt', 'education', 'educational-num',\n",
       "       'marital-status', 'occupation', 'relationship', 'race', 'gender',\n",
       "       'capital-gain', 'capital-loss', 'hours-per-week', 'native-country',\n",
       "       'income'],\n",
       "      dtype='object')"
      ]
     },
     "execution_count": 5,
     "metadata": {},
     "output_type": "execute_result"
    }
   ],
   "source": [
    "df.columns #All columns name"
   ]
  },
  {
   "cell_type": "code",
   "execution_count": 6,
   "id": "3ae6bcf0",
   "metadata": {},
   "outputs": [
    {
     "name": "stdout",
     "output_type": "stream",
     "text": [
      "<class 'pandas.core.frame.DataFrame'>\n",
      "RangeIndex: 48842 entries, 0 to 48841\n",
      "Data columns (total 15 columns):\n",
      " #   Column           Non-Null Count  Dtype \n",
      "---  ------           --------------  ----- \n",
      " 0   age              48842 non-null  int64 \n",
      " 1   workclass        48842 non-null  object\n",
      " 2   fnlwgt           48842 non-null  int64 \n",
      " 3   education        48842 non-null  object\n",
      " 4   educational-num  48842 non-null  int64 \n",
      " 5   marital-status   48842 non-null  object\n",
      " 6   occupation       48842 non-null  object\n",
      " 7   relationship     48842 non-null  object\n",
      " 8   race             48842 non-null  object\n",
      " 9   gender           48842 non-null  object\n",
      " 10  capital-gain     48842 non-null  int64 \n",
      " 11  capital-loss     48842 non-null  int64 \n",
      " 12  hours-per-week   48842 non-null  int64 \n",
      " 13  native-country   48842 non-null  object\n",
      " 14  income           48842 non-null  object\n",
      "dtypes: int64(6), object(9)\n",
      "memory usage: 5.6+ MB\n"
     ]
    }
   ],
   "source": [
    "df.info()"
   ]
  },
  {
   "cell_type": "code",
   "execution_count": 7,
   "id": "cbfc7259",
   "metadata": {},
   "outputs": [
    {
     "data": {
      "text/plain": [
       "6"
      ]
     },
     "execution_count": 7,
     "metadata": {},
     "output_type": "execute_result"
    }
   ],
   "source": [
    "# Number of numeric columns\n",
    "numerics = ['int64']\n",
    "numeric_df = df.select_dtypes(include=numerics)\n",
    "len(numeric_df.columns)"
   ]
  },
  {
   "cell_type": "code",
   "execution_count": 8,
   "id": "a2d19897",
   "metadata": {},
   "outputs": [
    {
     "name": "stdout",
     "output_type": "stream",
     "text": [
      "Numerical Columns : ['age', 'fnlwgt', 'educational-num', 'capital-gain', 'capital-loss', 'hours-per-week']\n"
     ]
    }
   ],
   "source": [
    "# Numerical Columns\n",
    "numerical_data = df.select_dtypes(['int64'])\n",
    "numerical_cols = numerical_data.columns\n",
    "print('Numerical Columns : {}'.format(list(numerical_cols)))"
   ]
  },
  {
   "cell_type": "code",
   "execution_count": 9,
   "id": "59a255a3",
   "metadata": {},
   "outputs": [
    {
     "name": "stdout",
     "output_type": "stream",
     "text": [
      "Categotical Columns : ['workclass', 'education', 'marital-status', 'occupation', 'relationship', 'race', 'gender', 'native-country', 'income']\n"
     ]
    }
   ],
   "source": [
    "# Categorical Columns\n",
    "categorical_data = df.select_dtypes(['object'])\n",
    "categorical_cols = categorical_data.columns\n",
    "print('Categotical Columns : {}'.format(list(categorical_cols)))"
   ]
  },
  {
   "cell_type": "code",
   "execution_count": 10,
   "id": "c2a85bce",
   "metadata": {},
   "outputs": [
    {
     "data": {
      "text/html": [
       "<div>\n",
       "<style scoped>\n",
       "    .dataframe tbody tr th:only-of-type {\n",
       "        vertical-align: middle;\n",
       "    }\n",
       "\n",
       "    .dataframe tbody tr th {\n",
       "        vertical-align: top;\n",
       "    }\n",
       "\n",
       "    .dataframe thead th {\n",
       "        text-align: right;\n",
       "    }\n",
       "</style>\n",
       "<table border=\"1\" class=\"dataframe\">\n",
       "  <thead>\n",
       "    <tr style=\"text-align: right;\">\n",
       "      <th></th>\n",
       "      <th>age</th>\n",
       "      <th>fnlwgt</th>\n",
       "      <th>educational-num</th>\n",
       "      <th>capital-gain</th>\n",
       "      <th>capital-loss</th>\n",
       "      <th>hours-per-week</th>\n",
       "    </tr>\n",
       "  </thead>\n",
       "  <tbody>\n",
       "    <tr>\n",
       "      <th>count</th>\n",
       "      <td>48842.000000</td>\n",
       "      <td>4.884200e+04</td>\n",
       "      <td>48842.000000</td>\n",
       "      <td>48842.000000</td>\n",
       "      <td>48842.000000</td>\n",
       "      <td>48842.000000</td>\n",
       "    </tr>\n",
       "    <tr>\n",
       "      <th>mean</th>\n",
       "      <td>38.643585</td>\n",
       "      <td>1.896641e+05</td>\n",
       "      <td>10.078089</td>\n",
       "      <td>1079.067626</td>\n",
       "      <td>87.502314</td>\n",
       "      <td>40.422382</td>\n",
       "    </tr>\n",
       "    <tr>\n",
       "      <th>std</th>\n",
       "      <td>13.710510</td>\n",
       "      <td>1.056040e+05</td>\n",
       "      <td>2.570973</td>\n",
       "      <td>7452.019058</td>\n",
       "      <td>403.004552</td>\n",
       "      <td>12.391444</td>\n",
       "    </tr>\n",
       "    <tr>\n",
       "      <th>min</th>\n",
       "      <td>17.000000</td>\n",
       "      <td>1.228500e+04</td>\n",
       "      <td>1.000000</td>\n",
       "      <td>0.000000</td>\n",
       "      <td>0.000000</td>\n",
       "      <td>1.000000</td>\n",
       "    </tr>\n",
       "    <tr>\n",
       "      <th>25%</th>\n",
       "      <td>28.000000</td>\n",
       "      <td>1.175505e+05</td>\n",
       "      <td>9.000000</td>\n",
       "      <td>0.000000</td>\n",
       "      <td>0.000000</td>\n",
       "      <td>40.000000</td>\n",
       "    </tr>\n",
       "    <tr>\n",
       "      <th>50%</th>\n",
       "      <td>37.000000</td>\n",
       "      <td>1.781445e+05</td>\n",
       "      <td>10.000000</td>\n",
       "      <td>0.000000</td>\n",
       "      <td>0.000000</td>\n",
       "      <td>40.000000</td>\n",
       "    </tr>\n",
       "    <tr>\n",
       "      <th>75%</th>\n",
       "      <td>48.000000</td>\n",
       "      <td>2.376420e+05</td>\n",
       "      <td>12.000000</td>\n",
       "      <td>0.000000</td>\n",
       "      <td>0.000000</td>\n",
       "      <td>45.000000</td>\n",
       "    </tr>\n",
       "    <tr>\n",
       "      <th>max</th>\n",
       "      <td>90.000000</td>\n",
       "      <td>1.490400e+06</td>\n",
       "      <td>16.000000</td>\n",
       "      <td>99999.000000</td>\n",
       "      <td>4356.000000</td>\n",
       "      <td>99.000000</td>\n",
       "    </tr>\n",
       "  </tbody>\n",
       "</table>\n",
       "</div>"
      ],
      "text/plain": [
       "                age        fnlwgt  educational-num  capital-gain  \\\n",
       "count  48842.000000  4.884200e+04     48842.000000  48842.000000   \n",
       "mean      38.643585  1.896641e+05        10.078089   1079.067626   \n",
       "std       13.710510  1.056040e+05         2.570973   7452.019058   \n",
       "min       17.000000  1.228500e+04         1.000000      0.000000   \n",
       "25%       28.000000  1.175505e+05         9.000000      0.000000   \n",
       "50%       37.000000  1.781445e+05        10.000000      0.000000   \n",
       "75%       48.000000  2.376420e+05        12.000000      0.000000   \n",
       "max       90.000000  1.490400e+06        16.000000  99999.000000   \n",
       "\n",
       "       capital-loss  hours-per-week  \n",
       "count  48842.000000    48842.000000  \n",
       "mean      87.502314       40.422382  \n",
       "std      403.004552       12.391444  \n",
       "min        0.000000        1.000000  \n",
       "25%        0.000000       40.000000  \n",
       "50%        0.000000       40.000000  \n",
       "75%        0.000000       45.000000  \n",
       "max     4356.000000       99.000000  "
      ]
     },
     "execution_count": 10,
     "metadata": {},
     "output_type": "execute_result"
    }
   ],
   "source": [
    "# Quick statistical Analysis of the Dataset\n",
    "df.describe()"
   ]
  },
  {
   "cell_type": "code",
   "execution_count": 11,
   "id": "a438ac27",
   "metadata": {},
   "outputs": [
    {
     "data": {
      "text/plain": [
       "age                0\n",
       "workclass          0\n",
       "fnlwgt             0\n",
       "education          0\n",
       "educational-num    0\n",
       "marital-status     0\n",
       "occupation         0\n",
       "relationship       0\n",
       "race               0\n",
       "gender             0\n",
       "capital-gain       0\n",
       "capital-loss       0\n",
       "hours-per-week     0\n",
       "native-country     0\n",
       "income             0\n",
       "dtype: int64"
      ]
     },
     "execution_count": 11,
     "metadata": {},
     "output_type": "execute_result"
    }
   ],
   "source": [
    "# Checking for null values\n",
    "df.isnull().sum()"
   ]
  },
  {
   "cell_type": "markdown",
   "id": "13e22ab6",
   "metadata": {},
   "source": [
    "<p style =\"font-size:25px; color:purple\"><b>Exploratory Data Analysis and Visualization:</b></p>"
   ]
  },
  {
   "cell_type": "code",
   "execution_count": 12,
   "id": "771eb42a",
   "metadata": {},
   "outputs": [
    {
     "data": {
      "text/plain": [
       "Index(['age', 'workclass', 'fnlwgt', 'education', 'educational-num',\n",
       "       'marital-status', 'occupation', 'relationship', 'race', 'gender',\n",
       "       'capital-gain', 'capital-loss', 'hours-per-week', 'native-country',\n",
       "       'income'],\n",
       "      dtype='object')"
      ]
     },
     "execution_count": 12,
     "metadata": {},
     "output_type": "execute_result"
    }
   ],
   "source": [
    "df.columns"
   ]
  },
  {
   "cell_type": "markdown",
   "id": "51b27e17",
   "metadata": {},
   "source": [
    "<p style =\"font-size:25px; color:blue\"><b>Univariate Analysis:</b></p>"
   ]
  },
  {
   "cell_type": "code",
   "execution_count": 13,
   "id": "664148e2",
   "metadata": {},
   "outputs": [],
   "source": [
    "# Let's create a function to save time\n",
    "def plot(clm):\n",
    "    sns.set_style(\"darkgrid\")\n",
    "    plt.figure(figsize=(12,6))\n",
    "    plt.subplot(1, 2, 1)\n",
    "    sns.distplot(df[clm])\n",
    "    plt.axvline(df[clm].mean(), color=\"brown\", label=\"Mean\")\n",
    "    plt.legend(shadow=True,fontsize=\"larger\")\n",
    "    plt.subplot(1, 2, 2)\n",
    "    sns.histplot(df[clm])\n",
    "    plt.axvline(df[clm].mean(), color=\"black\", label=\"Mean\")\n",
    "    plt.legend(shadow=True,fontsize=\"larger\")\n",
    "\n",
    "    skew = df[clm].skew()\n",
    "    kurt = df[clm].kurt()\n",
    "    print('Skewness:{}'.format(round(skew,2)))\n",
    "    print('Kurtosis:{}'.format(round(kurt,2)))"
   ]
  },
  {
   "cell_type": "markdown",
   "id": "cc785d4f",
   "metadata": {},
   "source": [
    "<p style =\"font-size:20px; color:brown\"><b>Distribution of age:</b></p>"
   ]
  },
  {
   "cell_type": "code",
   "execution_count": 14,
   "id": "74211897",
   "metadata": {},
   "outputs": [
    {
     "name": "stdout",
     "output_type": "stream",
     "text": [
      "Skewness:0.56\n",
      "Kurtosis:-0.18\n"
     ]
    },
    {
     "data": {
      "image/png": "[encoded data removed]",
      "text/plain": [
       "<Figure size 864x432 with 2 Axes>"
      ]
     },
     "metadata": {},
     "output_type": "display_data"
    }
   ],
   "source": [
    "plot('age')"
   ]
  },
  {
   "cell_type": "markdown",
   "id": "5e9c6ef8",
   "metadata": {},
   "source": [
    "**From the above plots as we can say that it's having a thick tail towards the right side looks like a positively skewed distribution**"
   ]
  },
  {
   "cell_type": "markdown",
   "id": "dc745203",
   "metadata": {},
   "source": [
    "<p style =\"font-size:20px; color:brown\"><b>Distribution of fnlwgt:</b></p>"
   ]
  },
  {
   "cell_type": "code",
   "execution_count": 15,
   "id": "0942b56f",
   "metadata": {},
   "outputs": [
    {
     "name": "stdout",
     "output_type": "stream",
     "text": [
      "Skewness:1.44\n",
      "Kurtosis:6.06\n"
     ]
    },
    {
     "data": {
      "image/png": "[encoded data removed]",
      "text/plain": [
       "<Figure size 864x432 with 2 Axes>"
      ]
     },
     "metadata": {},
     "output_type": "display_data"
    }
   ],
   "source": [
    " plot('fnlwgt')"
   ]
  },
  {
   "cell_type": "markdown",
   "id": "9cb99e83",
   "metadata": {},
   "source": [
    "**From the above plots as we can say that it's having a long tail towards the right side looks like a log normal distribution**"
   ]
  },
  {
   "cell_type": "markdown",
   "id": "f37d6480",
   "metadata": {},
   "source": [
    "<p style =\"font-size:20px; color:brown\"><b>Distribution of educational-num:</b></p>"
   ]
  },
  {
   "cell_type": "code",
   "execution_count": 16,
   "id": "96752a85",
   "metadata": {},
   "outputs": [
    {
     "name": "stdout",
     "output_type": "stream",
     "text": [
      "Skewness:-0.32\n",
      "Kurtosis:0.63\n"
     ]
    },
    {
     "data": {
      "image/png": "[encoded data removed]",
      "text/plain": [
       "<Figure size 864x432 with 2 Axes>"
      ]
     },
     "metadata": {},
     "output_type": "display_data"
    }
   ],
   "source": [
    " plot('educational-num')"
   ]
  },
  {
   "cell_type": "markdown",
   "id": "0f74dc31",
   "metadata": {},
   "source": [
    "<p style =\"font-size:20px; color:brown\"><b>Distribution of capital-gain:</b></p>"
   ]
  },
  {
   "cell_type": "code",
   "execution_count": 17,
   "id": "8e73035d",
   "metadata": {},
   "outputs": [
    {
     "name": "stdout",
     "output_type": "stream",
     "text": [
      "Skewness:11.89\n",
      "Kurtosis:152.69\n"
     ]
    },
    {
     "data": {
      "image/png": "[encoded data removed]",
      "text/plain": [
       "<Figure size 864x432 with 2 Axes>"
      ]
     },
     "metadata": {},
     "output_type": "display_data"
    }
   ],
   "source": [
    " plot('capital-gain')"
   ]
  },
  {
   "cell_type": "markdown",
   "id": "f9b5fabc",
   "metadata": {},
   "source": [
    "**From the above plots as we can say that it's having a long tail towards the right side looks like a Pareto distribution**"
   ]
  },
  {
   "cell_type": "markdown",
   "id": "cb032e32",
   "metadata": {
    "scrolled": true
   },
   "source": [
    "<p style =\"font-size:20px; color:brown\"><b>Distribution of capital-loss:</b></p>"
   ]
  },
  {
   "cell_type": "code",
   "execution_count": 18,
   "id": "4aa3ac41",
   "metadata": {},
   "outputs": [
    {
     "name": "stdout",
     "output_type": "stream",
     "text": [
      "Skewness:4.57\n",
      "Kurtosis:20.01\n"
     ]
    },
    {
     "data": {
      "image/png": "[encoded data removed]",
      "text/plain": [
       "<Figure size 864x432 with 2 Axes>"
      ]
     },
     "metadata": {},
     "output_type": "display_data"
    }
   ],
   "source": [
    " plot('capital-loss')"
   ]
  },
  {
   "cell_type": "markdown",
   "id": "5731d8b1",
   "metadata": {},
   "source": [
    "**From the above plots as we can say that it's having a long tail towards the right side looks like a Pareto distribution**"
   ]
  },
  {
   "cell_type": "markdown",
   "id": "a58566d8",
   "metadata": {
    "scrolled": true
   },
   "source": [
    "<p style =\"font-size:20px; color:brown\"><b>Distribution of hours-per-week:</b></p>"
   ]
  },
  {
   "cell_type": "code",
   "execution_count": 19,
   "id": "0bc24f89",
   "metadata": {},
   "outputs": [
    {
     "name": "stdout",
     "output_type": "stream",
     "text": [
      "Skewness:0.24\n",
      "Kurtosis:2.95\n"
     ]
    },
    {
     "data": {
      "image/png": "[encoded data removed]",
      "text/plain": [
       "<Figure size 864x432 with 2 Axes>"
      ]
     },
     "metadata": {},
     "output_type": "display_data"
    }
   ],
   "source": [
    " plot('hours-per-week')"
   ]
  },
  {
   "cell_type": "markdown",
   "id": "2202c555",
   "metadata": {},
   "source": [
    "<p style =\"font-size:20px; color:brown\"><b>Ploting the workclass to find the count:</b></p>"
   ]
  },
  {
   "cell_type": "code",
   "execution_count": 20,
   "id": "6d301b5c",
   "metadata": {},
   "outputs": [
    {
     "data": {
      "text/plain": [
       "0             Private\n",
       "1             Private\n",
       "2           Local-gov\n",
       "3             Private\n",
       "4                   ?\n",
       "             ...     \n",
       "48837         Private\n",
       "48838         Private\n",
       "48839         Private\n",
       "48840         Private\n",
       "48841    Self-emp-inc\n",
       "Name: workclass, Length: 48842, dtype: object"
      ]
     },
     "execution_count": 20,
     "metadata": {},
     "output_type": "execute_result"
    }
   ],
   "source": [
    "df['workclass']"
   ]
  },
  {
   "cell_type": "code",
   "execution_count": 21,
   "id": "4a75f172",
   "metadata": {},
   "outputs": [
    {
     "data": {
      "text/plain": [
       "9"
      ]
     },
     "execution_count": 21,
     "metadata": {},
     "output_type": "execute_result"
    }
   ],
   "source": [
    "unique_workclass = df['workclass'].unique()\n",
    "len(unique_workclass) "
   ]
  },
  {
   "cell_type": "code",
   "execution_count": 22,
   "id": "c6d247d0",
   "metadata": {},
   "outputs": [
    {
     "data": {
      "text/plain": [
       "Private             33906\n",
       "Self-emp-not-inc     3862\n",
       "Local-gov            3136\n",
       "?                    2799\n",
       "State-gov            1981\n",
       "Self-emp-inc         1695\n",
       "Federal-gov          1432\n",
       "Without-pay            21\n",
       "Never-worked           10\n",
       "Name: workclass, dtype: int64"
      ]
     },
     "execution_count": 22,
     "metadata": {},
     "output_type": "execute_result"
    }
   ],
   "source": [
    "workclass_count = df['workclass'].value_counts()\n",
    "workclass_count"
   ]
  },
  {
   "cell_type": "code",
   "execution_count": 23,
   "id": "a55b53d0",
   "metadata": {},
   "outputs": [
    {
     "data": {
      "text/plain": [
       "Text(0, 0.5, 'Count')"
      ]
     },
     "execution_count": 23,
     "metadata": {},
     "output_type": "execute_result"
    },
    {
     "data": {
      "image/png": "[encoded data removed]",
      "text/plain": [
       "<Figure size 720x576 with 1 Axes>"
      ]
     },
     "metadata": {},
     "output_type": "display_data"
    }
   ],
   "source": [
    "sns.set_style(\"darkgrid\")\n",
    "plt.figure(figsize=(10,8))\n",
    "workclass_count.plot(kind='bar' , width=0.9)\n",
    "plt.xlabel('workclass')\n",
    "plt.ylabel('Count')"
   ]
  },
  {
   "cell_type": "markdown",
   "id": "1052a0d7",
   "metadata": {},
   "source": [
    "**From the above plot We can say the majority of Workclass belongs to the Private Sector. Very few percent of Workclass belongs to other categories.**"
   ]
  },
  {
   "cell_type": "markdown",
   "id": "3cfb6042",
   "metadata": {},
   "source": [
    "<p style =\"font-size:20px; color:brown\"><b>Ploting the education to find the count:</b></p>"
   ]
  },
  {
   "cell_type": "code",
   "execution_count": 24,
   "id": "750fd48c",
   "metadata": {},
   "outputs": [
    {
     "data": {
      "text/plain": [
       "0                11th\n",
       "1             HS-grad\n",
       "2          Assoc-acdm\n",
       "3        Some-college\n",
       "4        Some-college\n",
       "             ...     \n",
       "48837      Assoc-acdm\n",
       "48838         HS-grad\n",
       "48839         HS-grad\n",
       "48840         HS-grad\n",
       "48841         HS-grad\n",
       "Name: education, Length: 48842, dtype: object"
      ]
     },
     "execution_count": 24,
     "metadata": {},
     "output_type": "execute_result"
    }
   ],
   "source": [
    "df['education']"
   ]
  },
  {
   "cell_type": "code",
   "execution_count": 25,
   "id": "d866c0d8",
   "metadata": {},
   "outputs": [
    {
     "data": {
      "text/plain": [
       "16"
      ]
     },
     "execution_count": 25,
     "metadata": {},
     "output_type": "execute_result"
    }
   ],
   "source": [
    "unique_education = df['education'].unique()\n",
    "len(unique_education) "
   ]
  },
  {
   "cell_type": "code",
   "execution_count": 26,
   "id": "f9e92598",
   "metadata": {},
   "outputs": [
    {
     "data": {
      "text/plain": [
       "HS-grad         15784\n",
       "Some-college    10878\n",
       "Bachelors        8025\n",
       "Masters          2657\n",
       "Assoc-voc        2061\n",
       "11th             1812\n",
       "Assoc-acdm       1601\n",
       "10th             1389\n",
       "7th-8th           955\n",
       "Prof-school       834\n",
       "9th               756\n",
       "12th              657\n",
       "Doctorate         594\n",
       "5th-6th           509\n",
       "1st-4th           247\n",
       "Preschool          83\n",
       "Name: education, dtype: int64"
      ]
     },
     "execution_count": 26,
     "metadata": {},
     "output_type": "execute_result"
    }
   ],
   "source": [
    "education_count = df['education'].value_counts()\n",
    "education_count"
   ]
  },
  {
   "cell_type": "code",
   "execution_count": 27,
   "id": "a7eefc59",
   "metadata": {},
   "outputs": [
    {
     "data": {
      "text/plain": [
       "Text(0, 0.5, 'Count')"
      ]
     },
     "execution_count": 27,
     "metadata": {},
     "output_type": "execute_result"
    },
    {
     "data": {
      "image/png": "[encoded data removed]",
      "text/plain": [
       "<Figure size 720x576 with 1 Axes>"
      ]
     },
     "metadata": {},
     "output_type": "display_data"
    }
   ],
   "source": [
    "sns.set_style(\"darkgrid\")\n",
    "plt.figure(figsize=(10,8))\n",
    "education_count.plot(kind='bar' , width=0.9)\n",
    "plt.xlabel('education')\n",
    "plt.ylabel('Count')"
   ]
  },
  {
   "cell_type": "markdown",
   "id": "ced9f24c",
   "metadata": {},
   "source": [
    "**From the above plot We can say that Highest Education level of an Individual is HS-grad.**"
   ]
  },
  {
   "cell_type": "markdown",
   "id": "dcfc9020",
   "metadata": {},
   "source": [
    "<p style =\"font-size:20px; color:brown\"><b>Ploting the marital-status to find the count:</b></p>"
   ]
  },
  {
   "cell_type": "code",
   "execution_count": 28,
   "id": "b0076679",
   "metadata": {},
   "outputs": [
    {
     "data": {
      "text/plain": [
       "0             Never-married\n",
       "1        Married-civ-spouse\n",
       "2        Married-civ-spouse\n",
       "3        Married-civ-spouse\n",
       "4             Never-married\n",
       "                ...        \n",
       "48837    Married-civ-spouse\n",
       "48838    Married-civ-spouse\n",
       "48839               Widowed\n",
       "48840         Never-married\n",
       "48841    Married-civ-spouse\n",
       "Name: marital-status, Length: 48842, dtype: object"
      ]
     },
     "execution_count": 28,
     "metadata": {},
     "output_type": "execute_result"
    }
   ],
   "source": [
    "df['marital-status']"
   ]
  },
  {
   "cell_type": "code",
   "execution_count": 29,
   "id": "877b553c",
   "metadata": {},
   "outputs": [
    {
     "data": {
      "text/plain": [
       "7"
      ]
     },
     "execution_count": 29,
     "metadata": {},
     "output_type": "execute_result"
    }
   ],
   "source": [
    "unique_maritalstatus = df['marital-status'].unique()\n",
    "len(unique_maritalstatus) "
   ]
  },
  {
   "cell_type": "code",
   "execution_count": 30,
   "id": "afdeaedc",
   "metadata": {},
   "outputs": [
    {
     "data": {
      "text/plain": [
       "Married-civ-spouse       22379\n",
       "Never-married            16117\n",
       "Divorced                  6633\n",
       "Separated                 1530\n",
       "Widowed                   1518\n",
       "Married-spouse-absent      628\n",
       "Married-AF-spouse           37\n",
       "Name: marital-status, dtype: int64"
      ]
     },
     "execution_count": 30,
     "metadata": {},
     "output_type": "execute_result"
    }
   ],
   "source": [
    "maritalstatus_count = df['marital-status'].value_counts()\n",
    "maritalstatus_count"
   ]
  },
  {
   "cell_type": "code",
   "execution_count": 31,
   "id": "6a86509e",
   "metadata": {},
   "outputs": [
    {
     "data": {
      "text/plain": [
       "Text(0, 0.5, 'Count')"
      ]
     },
     "execution_count": 31,
     "metadata": {},
     "output_type": "execute_result"
    },
    {
     "data": {
      "image/png": "[encoded data removed]",
      "text/plain": [
       "<Figure size 720x576 with 1 Axes>"
      ]
     },
     "metadata": {},
     "output_type": "display_data"
    }
   ],
   "source": [
    "sns.set_style(\"darkgrid\")\n",
    "plt.figure(figsize=(10,8))\n",
    "maritalstatus_count.plot(kind='bar' , width=0.9)\n",
    "plt.xlabel('marital-status')\n",
    "plt.ylabel('Count')"
   ]
  },
  {
   "cell_type": "markdown",
   "id": "8fe09e5a",
   "metadata": {},
   "source": [
    "**From the above plot We can say that Married-civ-spouse is the highest in the population**"
   ]
  },
  {
   "cell_type": "markdown",
   "id": "8ee4f990",
   "metadata": {},
   "source": [
    "<p style =\"font-size:20px; color:brown\"><b>Ploting the occupation to find the count:</b></p>"
   ]
  },
  {
   "cell_type": "code",
   "execution_count": 32,
   "id": "50abd7d6",
   "metadata": {},
   "outputs": [
    {
     "data": {
      "text/plain": [
       "0        Machine-op-inspct\n",
       "1          Farming-fishing\n",
       "2          Protective-serv\n",
       "3        Machine-op-inspct\n",
       "4                        ?\n",
       "               ...        \n",
       "48837         Tech-support\n",
       "48838    Machine-op-inspct\n",
       "48839         Adm-clerical\n",
       "48840         Adm-clerical\n",
       "48841      Exec-managerial\n",
       "Name: occupation, Length: 48842, dtype: object"
      ]
     },
     "execution_count": 32,
     "metadata": {},
     "output_type": "execute_result"
    }
   ],
   "source": [
    "df['occupation']"
   ]
  },
  {
   "cell_type": "code",
   "execution_count": 33,
   "id": "1edb500e",
   "metadata": {},
   "outputs": [
    {
     "data": {
      "text/plain": [
       "15"
      ]
     },
     "execution_count": 33,
     "metadata": {},
     "output_type": "execute_result"
    }
   ],
   "source": [
    "unique_occupation = df['occupation'].unique()\n",
    "len(unique_occupation) "
   ]
  },
  {
   "cell_type": "code",
   "execution_count": 34,
   "id": "1248a40f",
   "metadata": {},
   "outputs": [
    {
     "data": {
      "text/plain": [
       "Prof-specialty       6172\n",
       "Craft-repair         6112\n",
       "Exec-managerial      6086\n",
       "Adm-clerical         5611\n",
       "Sales                5504\n",
       "Other-service        4923\n",
       "Machine-op-inspct    3022\n",
       "?                    2809\n",
       "Transport-moving     2355\n",
       "Handlers-cleaners    2072\n",
       "Farming-fishing      1490\n",
       "Tech-support         1446\n",
       "Protective-serv       983\n",
       "Priv-house-serv       242\n",
       "Armed-Forces           15\n",
       "Name: occupation, dtype: int64"
      ]
     },
     "execution_count": 34,
     "metadata": {},
     "output_type": "execute_result"
    }
   ],
   "source": [
    "occupation_count = df['occupation'].value_counts()\n",
    "occupation_count"
   ]
  },
  {
   "cell_type": "code",
   "execution_count": 35,
   "id": "92f0048c",
   "metadata": {},
   "outputs": [
    {
     "data": {
      "text/plain": [
       "Text(0, 0.5, 'Count')"
      ]
     },
     "execution_count": 35,
     "metadata": {},
     "output_type": "execute_result"
    },
    {
     "data": {
      "image/png": "[encoded data removed]",
      "text/plain": [
       "<Figure size 720x576 with 1 Axes>"
      ]
     },
     "metadata": {},
     "output_type": "display_data"
    }
   ],
   "source": [
    "sns.set_style(\"darkgrid\")\n",
    "plt.figure(figsize=(10,8))\n",
    "occupation_count.plot(kind='bar' , width=0.9)\n",
    "plt.xlabel('occupation')\n",
    "plt.ylabel('Count')"
   ]
  },
  {
   "cell_type": "markdown",
   "id": "385d2afe",
   "metadata": {},
   "source": [
    "**From the above plot we can say that the most of the occupation follows is Prof-specialty**"
   ]
  },
  {
   "cell_type": "markdown",
   "id": "17a51418",
   "metadata": {},
   "source": [
    "<p style =\"font-size:20px; color:brown\"><b>Ploting the relationship to find the count:</b></p>"
   ]
  },
  {
   "cell_type": "code",
   "execution_count": 36,
   "id": "6fcfe807",
   "metadata": {},
   "outputs": [
    {
     "data": {
      "text/plain": [
       "0        Own-child\n",
       "1          Husband\n",
       "2          Husband\n",
       "3          Husband\n",
       "4        Own-child\n",
       "           ...    \n",
       "48837         Wife\n",
       "48838      Husband\n",
       "48839    Unmarried\n",
       "48840    Own-child\n",
       "48841         Wife\n",
       "Name: relationship, Length: 48842, dtype: object"
      ]
     },
     "execution_count": 36,
     "metadata": {},
     "output_type": "execute_result"
    }
   ],
   "source": [
    "df['relationship']"
   ]
  },
  {
   "cell_type": "code",
   "execution_count": 37,
   "id": "aa5647fa",
   "metadata": {},
   "outputs": [
    {
     "data": {
      "text/plain": [
       "6"
      ]
     },
     "execution_count": 37,
     "metadata": {},
     "output_type": "execute_result"
    }
   ],
   "source": [
    "unique_relationship = df['relationship'].unique()\n",
    "len(unique_relationship) "
   ]
  },
  {
   "cell_type": "code",
   "execution_count": 38,
   "id": "0198c747",
   "metadata": {},
   "outputs": [
    {
     "data": {
      "text/plain": [
       "Husband           19716\n",
       "Not-in-family     12583\n",
       "Own-child          7581\n",
       "Unmarried          5125\n",
       "Wife               2331\n",
       "Other-relative     1506\n",
       "Name: relationship, dtype: int64"
      ]
     },
     "execution_count": 38,
     "metadata": {},
     "output_type": "execute_result"
    }
   ],
   "source": [
    "relationship_count = df['relationship'].value_counts()\n",
    "relationship_count"
   ]
  },
  {
   "cell_type": "code",
   "execution_count": 39,
   "id": "12cd9590",
   "metadata": {},
   "outputs": [
    {
     "data": {
      "text/plain": [
       "Text(0, 0.5, 'Count')"
      ]
     },
     "execution_count": 39,
     "metadata": {},
     "output_type": "execute_result"
    },
    {
     "data": {
      "image/png": "[encoded data removed]",
      "text/plain": [
       "<Figure size 720x576 with 1 Axes>"
      ]
     },
     "metadata": {},
     "output_type": "display_data"
    }
   ],
   "source": [
    "sns.set_style(\"darkgrid\")\n",
    "plt.figure(figsize=(10,8))\n",
    "relationship_count.plot(kind='bar' , width=0.9)\n",
    "plt.xlabel('relationship')\n",
    "plt.ylabel('Count')"
   ]
  },
  {
   "cell_type": "markdown",
   "id": "30f0c89a",
   "metadata": {},
   "source": [
    "<p style =\"font-size:20px; color:brown\"><b>Ploting the race to find the count:</b></p>"
   ]
  },
  {
   "cell_type": "code",
   "execution_count": 40,
   "id": "fb1c81e0",
   "metadata": {},
   "outputs": [
    {
     "data": {
      "text/plain": [
       "0        Black\n",
       "1        White\n",
       "2        White\n",
       "3        Black\n",
       "4        White\n",
       "         ...  \n",
       "48837    White\n",
       "48838    White\n",
       "48839    White\n",
       "48840    White\n",
       "48841    White\n",
       "Name: race, Length: 48842, dtype: object"
      ]
     },
     "execution_count": 40,
     "metadata": {},
     "output_type": "execute_result"
    }
   ],
   "source": [
    "df['race']"
   ]
  },
  {
   "cell_type": "code",
   "execution_count": 41,
   "id": "0ca43666",
   "metadata": {},
   "outputs": [
    {
     "data": {
      "text/plain": [
       "5"
      ]
     },
     "execution_count": 41,
     "metadata": {},
     "output_type": "execute_result"
    }
   ],
   "source": [
    "unique_race = df['race'].unique()\n",
    "len(unique_race) "
   ]
  },
  {
   "cell_type": "code",
   "execution_count": 42,
   "id": "6106a562",
   "metadata": {},
   "outputs": [
    {
     "data": {
      "text/plain": [
       "White                 41762\n",
       "Black                  4685\n",
       "Asian-Pac-Islander     1519\n",
       "Amer-Indian-Eskimo      470\n",
       "Other                   406\n",
       "Name: race, dtype: int64"
      ]
     },
     "execution_count": 42,
     "metadata": {},
     "output_type": "execute_result"
    }
   ],
   "source": [
    "race_count = df['race'].value_counts()\n",
    "race_count"
   ]
  },
  {
   "cell_type": "code",
   "execution_count": 43,
   "id": "1ef02776",
   "metadata": {},
   "outputs": [
    {
     "data": {
      "text/plain": [
       "Text(0, 0.5, 'Count')"
      ]
     },
     "execution_count": 43,
     "metadata": {},
     "output_type": "execute_result"
    },
    {
     "data": {
      "image/png": "[encoded data removed]",
      "text/plain": [
       "<Figure size 720x576 with 1 Axes>"
      ]
     },
     "metadata": {},
     "output_type": "display_data"
    }
   ],
   "source": [
    "sns.set_style(\"darkgrid\")\n",
    "plt.figure(figsize=(10,8))\n",
    "race_count.plot(kind='bar' , width=0.9)\n",
    "plt.xlabel('race')\n",
    "plt.ylabel('Count')"
   ]
  },
  {
   "cell_type": "markdown",
   "id": "00d28b76",
   "metadata": {},
   "source": [
    "<p style =\"font-size:20px; color:brown\"><b>Ploting the gender to find the count:</b></p>"
   ]
  },
  {
   "cell_type": "code",
   "execution_count": 44,
   "id": "1bb9ac6a",
   "metadata": {},
   "outputs": [
    {
     "data": {
      "text/plain": [
       "0          Male\n",
       "1          Male\n",
       "2          Male\n",
       "3          Male\n",
       "4        Female\n",
       "          ...  \n",
       "48837    Female\n",
       "48838      Male\n",
       "48839    Female\n",
       "48840      Male\n",
       "48841    Female\n",
       "Name: gender, Length: 48842, dtype: object"
      ]
     },
     "execution_count": 44,
     "metadata": {},
     "output_type": "execute_result"
    }
   ],
   "source": [
    "df['gender']"
   ]
  },
  {
   "cell_type": "code",
   "execution_count": 45,
   "id": "12251d94",
   "metadata": {},
   "outputs": [
    {
     "data": {
      "text/plain": [
       "2"
      ]
     },
     "execution_count": 45,
     "metadata": {},
     "output_type": "execute_result"
    }
   ],
   "source": [
    "unique_gender = df['gender'].unique()\n",
    "len(unique_gender) "
   ]
  },
  {
   "cell_type": "code",
   "execution_count": 46,
   "id": "86b2a3eb",
   "metadata": {},
   "outputs": [
    {
     "data": {
      "text/plain": [
       "Male      32650\n",
       "Female    16192\n",
       "Name: gender, dtype: int64"
      ]
     },
     "execution_count": 46,
     "metadata": {},
     "output_type": "execute_result"
    }
   ],
   "source": [
    "gender_count = df['gender'].value_counts()\n",
    "gender_count"
   ]
  },
  {
   "cell_type": "code",
   "execution_count": 47,
   "id": "72a54ecc",
   "metadata": {},
   "outputs": [
    {
     "data": {
      "image/png": "[encoded data removed]",
      "text/plain": [
       "<Figure size 1080x576 with 1 Axes>"
      ]
     },
     "metadata": {},
     "output_type": "display_data"
    }
   ],
   "source": [
    "plt.figure(figsize=(15,8))\n",
    "labels=['Male','Female']\n",
    "data=df.gender.value_counts()\n",
    "plt.pie(data,labels=labels,autopct=\"%.1f%%\")\n",
    "plt.show()"
   ]
  },
  {
   "cell_type": "markdown",
   "id": "2305108c",
   "metadata": {},
   "source": [
    "<p style =\"font-size:20px; color:brown\"><b>Ploting the native-country to find the count:</b></p>"
   ]
  },
  {
   "cell_type": "code",
   "execution_count": 48,
   "id": "e0fa4ce9",
   "metadata": {},
   "outputs": [
    {
     "data": {
      "text/plain": [
       "0        United-States\n",
       "1        United-States\n",
       "2        United-States\n",
       "3        United-States\n",
       "4        United-States\n",
       "             ...      \n",
       "48837    United-States\n",
       "48838    United-States\n",
       "48839    United-States\n",
       "48840    United-States\n",
       "48841    United-States\n",
       "Name: native-country, Length: 48842, dtype: object"
      ]
     },
     "execution_count": 48,
     "metadata": {},
     "output_type": "execute_result"
    }
   ],
   "source": [
    "df['native-country']"
   ]
  },
  {
   "cell_type": "code",
   "execution_count": 49,
   "id": "94b9ef44",
   "metadata": {},
   "outputs": [
    {
     "data": {
      "text/plain": [
       "42"
      ]
     },
     "execution_count": 49,
     "metadata": {},
     "output_type": "execute_result"
    }
   ],
   "source": [
    "unique_native_country = df['native-country'].unique()\n",
    "len(unique_native_country) "
   ]
  },
  {
   "cell_type": "code",
   "execution_count": 50,
   "id": "775a01fd",
   "metadata": {},
   "outputs": [
    {
     "data": {
      "text/plain": [
       "United-States                 43832\n",
       "Mexico                          951\n",
       "?                               857\n",
       "Philippines                     295\n",
       "Germany                         206\n",
       "Puerto-Rico                     184\n",
       "Canada                          182\n",
       "El-Salvador                     155\n",
       "India                           151\n",
       "Cuba                            138\n",
       "England                         127\n",
       "China                           122\n",
       "South                           115\n",
       "Jamaica                         106\n",
       "Italy                           105\n",
       "Dominican-Republic              103\n",
       "Japan                            92\n",
       "Guatemala                        88\n",
       "Poland                           87\n",
       "Vietnam                          86\n",
       "Columbia                         85\n",
       "Haiti                            75\n",
       "Portugal                         67\n",
       "Taiwan                           65\n",
       "Iran                             59\n",
       "Greece                           49\n",
       "Nicaragua                        49\n",
       "Peru                             46\n",
       "Ecuador                          45\n",
       "France                           38\n",
       "Ireland                          37\n",
       "Thailand                         30\n",
       "Hong                             30\n",
       "Cambodia                         28\n",
       "Trinadad&Tobago                  27\n",
       "Yugoslavia                       23\n",
       "Laos                             23\n",
       "Outlying-US(Guam-USVI-etc)       23\n",
       "Scotland                         21\n",
       "Honduras                         20\n",
       "Hungary                          19\n",
       "Holand-Netherlands                1\n",
       "Name: native-country, dtype: int64"
      ]
     },
     "execution_count": 50,
     "metadata": {},
     "output_type": "execute_result"
    }
   ],
   "source": [
    "native_country_count = df['native-country'].value_counts()\n",
    "native_country_count"
   ]
  },
  {
   "cell_type": "code",
   "execution_count": 51,
   "id": "807d8dcc",
   "metadata": {},
   "outputs": [
    {
     "data": {
      "text/plain": [
       "Text(0, 0.5, 'Count')"
      ]
     },
     "execution_count": 51,
     "metadata": {},
     "output_type": "execute_result"
    },
    {
     "data": {
      "image/png": "[encoded data removed]",
      "text/plain": [
       "<Figure size 720x576 with 1 Axes>"
      ]
     },
     "metadata": {},
     "output_type": "display_data"
    }
   ],
   "source": [
    "sns.set_style(\"darkgrid\")\n",
    "plt.figure(figsize=(10,8))\n",
    "native_country_count[:20].plot(kind='bar' , width=0.9)\n",
    "plt.xlabel('native-country')\n",
    "plt.ylabel('Count')"
   ]
  },
  {
   "cell_type": "markdown",
   "id": "0789a762",
   "metadata": {},
   "source": [
    "<p style =\"font-size:20px; color:brown\"><b>Ploting the income to find the count:</b></p>"
   ]
  },
  {
   "cell_type": "code",
   "execution_count": 52,
   "id": "bf709830",
   "metadata": {},
   "outputs": [
    {
     "data": {
      "text/plain": [
       "0        <=50K\n",
       "1        <=50K\n",
       "2         >50K\n",
       "3         >50K\n",
       "4        <=50K\n",
       "         ...  \n",
       "48837    <=50K\n",
       "48838     >50K\n",
       "48839    <=50K\n",
       "48840    <=50K\n",
       "48841     >50K\n",
       "Name: income, Length: 48842, dtype: object"
      ]
     },
     "execution_count": 52,
     "metadata": {},
     "output_type": "execute_result"
    }
   ],
   "source": [
    "df['income']"
   ]
  },
  {
   "cell_type": "code",
   "execution_count": 53,
   "id": "6ee34a2b",
   "metadata": {},
   "outputs": [
    {
     "data": {
      "text/plain": [
       "2"
      ]
     },
     "execution_count": 53,
     "metadata": {},
     "output_type": "execute_result"
    }
   ],
   "source": [
    "unique_income = df['income'].unique()\n",
    "len(unique_income) "
   ]
  },
  {
   "cell_type": "code",
   "execution_count": 54,
   "id": "db2dbcae",
   "metadata": {},
   "outputs": [
    {
     "data": {
      "text/plain": [
       "<=50K    37155\n",
       ">50K     11687\n",
       "Name: income, dtype: int64"
      ]
     },
     "execution_count": 54,
     "metadata": {},
     "output_type": "execute_result"
    }
   ],
   "source": [
    "income_count = df['income'].value_counts()\n",
    "income_count"
   ]
  },
  {
   "cell_type": "code",
   "execution_count": 55,
   "id": "2f642b69",
   "metadata": {},
   "outputs": [
    {
     "data": {
      "text/plain": [
       "Text(0, 0.5, 'Count')"
      ]
     },
     "execution_count": 55,
     "metadata": {},
     "output_type": "execute_result"
    },
    {
     "data": {
      "image/png": "[encoded data removed]",
      "text/plain": [
       "<Figure size 720x576 with 1 Axes>"
      ]
     },
     "metadata": {},
     "output_type": "display_data"
    }
   ],
   "source": [
    "sns.set_style(\"darkgrid\")\n",
    "plt.figure(figsize=(10,8))\n",
    "income_count.plot(kind='bar' , width=0.9)\n",
    "plt.xlabel('income')\n",
    "plt.ylabel('Count')"
   ]
  },
  {
   "cell_type": "markdown",
   "id": "ec376e24",
   "metadata": {},
   "source": [
    "<p style =\"font-size:25px; color:blue\"><b>Bivariate Analysis:</b></p>"
   ]
  },
  {
   "cell_type": "markdown",
   "id": "9acc8e74",
   "metadata": {},
   "source": [
    "<p style =\"font-size:20px; color:brown\"><b>Workclass by Age Distribution:</b></p>"
   ]
  },
  {
   "cell_type": "code",
   "execution_count": 56,
   "id": "47f18ea4",
   "metadata": {},
   "outputs": [
    {
     "data": {
      "image/png": "[encoded data removed]",
      "text/plain": [
       "<Figure size 864x576 with 1 Axes>"
      ]
     },
     "metadata": {},
     "output_type": "display_data"
    }
   ],
   "source": [
    "plt.figure(figsize=(12,8))\n",
    "sns.barplot(y='workclass',x='age',data=df)\n",
    "plt.title('Workclass by Age')\n",
    "plt.show()"
   ]
  },
  {
   "cell_type": "markdown",
   "id": "cf975542",
   "metadata": {},
   "source": [
    "<p style =\"font-size:20px; color:brown\"><b>Marital Status by Age Distribution:</b></p>"
   ]
  },
  {
   "cell_type": "code",
   "execution_count": 57,
   "id": "9e42b382",
   "metadata": {},
   "outputs": [
    {
     "data": {
      "image/png": "[encoded data removed]",
      "text/plain": [
       "<Figure size 864x576 with 1 Axes>"
      ]
     },
     "metadata": {},
     "output_type": "display_data"
    }
   ],
   "source": [
    "plt.figure(figsize=(12,8))\n",
    "sns.barplot(x='marital-status',y='age',ci=None,data=df)\n",
    "plt.title('Marital Status with Respect to Age')\n",
    "plt.xticks(rotation=45)\n",
    "plt.show()"
   ]
  },
  {
   "cell_type": "markdown",
   "id": "0befd448",
   "metadata": {},
   "source": [
    "<p style =\"font-size:20px; color:brown\"><b>Income with Respect to age:</b></p>"
   ]
  },
  {
   "cell_type": "code",
   "execution_count": 58,
   "id": "fe195c5c",
   "metadata": {},
   "outputs": [
    {
     "data": {
      "image/png": "[encoded data removed]",
      "text/plain": [
       "<Figure size 864x576 with 1 Axes>"
      ]
     },
     "metadata": {},
     "output_type": "display_data"
    }
   ],
   "source": [
    "plt.figure(figsize=(12,8))\n",
    "sns.set_style('darkgrid')\n",
    "sns.countplot(x=df['age'][:200],hue='income',data=df)\n",
    "plt.title('Income with Respect to age')\n",
    "plt.show()"
   ]
  },
  {
   "cell_type": "markdown",
   "id": "5e8a72bc",
   "metadata": {},
   "source": [
    "<p style =\"font-size:20px; color:brown\"><b>Income with Respect to Relationship Status:</b></p>"
   ]
  },
  {
   "cell_type": "code",
   "execution_count": 59,
   "id": "0ee1a6e2",
   "metadata": {},
   "outputs": [
    {
     "data": {
      "image/png": "[encoded data removed]",
      "text/plain": [
       "<Figure size 720x720 with 1 Axes>"
      ]
     },
     "metadata": {},
     "output_type": "display_data"
    }
   ],
   "source": [
    "plt.figure(figsize=(10,10))\n",
    "sns.set_style('darkgrid')\n",
    "sns.countplot(x='relationship',hue='income',data=df)\n",
    "plt.title('Income with Respect to Relationship')\n",
    "plt.show()"
   ]
  },
  {
   "cell_type": "markdown",
   "id": "555135a0",
   "metadata": {},
   "source": [
    "<p style =\"font-size:20px; color:brown\"><b>Job Occupation with Respect to Income:</b></p>"
   ]
  },
  {
   "cell_type": "code",
   "execution_count": 60,
   "id": "4903f937",
   "metadata": {},
   "outputs": [
    {
     "data": {
      "image/png": "[encoded data removed]",
      "text/plain": [
       "<Figure size 720x720 with 1 Axes>"
      ]
     },
     "metadata": {},
     "output_type": "display_data"
    }
   ],
   "source": [
    "plt.figure(figsize=(10,10))\n",
    "sns.set_style('darkgrid')\n",
    "sns.countplot(x='occupation',hue='income',data=df)\n",
    "plt.title('Income Distribution with Respect to Job Occupation')\n",
    "plt.xticks(rotation=90)\n",
    "plt.show()"
   ]
  },
  {
   "cell_type": "markdown",
   "id": "0065fb51",
   "metadata": {},
   "source": [
    "<p style =\"font-size:20px; color:brown\"><b>Income with Respect to Education Level:</b></p>"
   ]
  },
  {
   "cell_type": "code",
   "execution_count": 61,
   "id": "852c37d7",
   "metadata": {},
   "outputs": [
    {
     "data": {
      "image/png": "[encoded data removed]",
      "text/plain": [
       "<Figure size 720x720 with 1 Axes>"
      ]
     },
     "metadata": {},
     "output_type": "display_data"
    }
   ],
   "source": [
    "plt.figure(figsize=(10,10))\n",
    "sns.set_style('darkgrid')\n",
    "sns.countplot(x='education',hue='income',data=df)\n",
    "plt.title('Income with Respect to Education')\n",
    "plt.xticks(rotation=90)\n",
    "plt.show()"
   ]
  },
  {
   "cell_type": "markdown",
   "id": "7c8e2fb5",
   "metadata": {},
   "source": [
    "<p style =\"font-size:25px; color:blue\"><b>Feature Engineering:</b></p>"
   ]
  },
  {
   "cell_type": "markdown",
   "id": "e2212d44",
   "metadata": {},
   "source": [
    "**At the time of analysing the dataset we have came across with lot's of missing values. So now we have to tackel those to clean the data**"
   ]
  },
  {
   "cell_type": "code",
   "execution_count": 62,
   "id": "7919863f",
   "metadata": {},
   "outputs": [],
   "source": [
    "# As we can see the null values are exists in the dataset as '?'. so I'll replace those with nan values.\n",
    "columns = list(df.columns)\n",
    "for col in columns:    \n",
    "    df[col] = df[col].replace('?',np.nan)"
   ]
  },
  {
   "cell_type": "code",
   "execution_count": 63,
   "id": "b5366bc3",
   "metadata": {},
   "outputs": [
    {
     "data": {
      "text/plain": [
       "age                False\n",
       "workclass           True\n",
       "fnlwgt             False\n",
       "education          False\n",
       "educational-num    False\n",
       "marital-status     False\n",
       "occupation          True\n",
       "relationship       False\n",
       "race               False\n",
       "gender             False\n",
       "capital-gain       False\n",
       "capital-loss       False\n",
       "hours-per-week     False\n",
       "native-country      True\n",
       "income             False\n",
       "dtype: bool"
      ]
     },
     "execution_count": 63,
     "metadata": {},
     "output_type": "execute_result"
    }
   ],
   "source": [
    "df.isnull().any()"
   ]
  },
  {
   "cell_type": "markdown",
   "id": "ebada631",
   "metadata": {},
   "source": [
    "**As we can see there are some null values in the columns**"
   ]
  },
  {
   "cell_type": "code",
   "execution_count": 64,
   "id": "330feba9",
   "metadata": {},
   "outputs": [],
   "source": [
    "# Dropping the null values\n",
    "df = df.loc[df['workclass'].notnull(), :]\n",
    "df = df.loc[df['occupation'].notnull(), :]\n",
    "df = df.loc[df['native-country'].notnull(), :]"
   ]
  },
  {
   "cell_type": "code",
   "execution_count": 65,
   "id": "a8094ae9",
   "metadata": {},
   "outputs": [
    {
     "data": {
      "text/plain": [
       "age                False\n",
       "workclass          False\n",
       "fnlwgt             False\n",
       "education          False\n",
       "educational-num    False\n",
       "marital-status     False\n",
       "occupation         False\n",
       "relationship       False\n",
       "race               False\n",
       "gender             False\n",
       "capital-gain       False\n",
       "capital-loss       False\n",
       "hours-per-week     False\n",
       "native-country     False\n",
       "income             False\n",
       "dtype: bool"
      ]
     },
     "execution_count": 65,
     "metadata": {},
     "output_type": "execute_result"
    }
   ],
   "source": [
    "df.isnull().any() "
   ]
  },
  {
   "cell_type": "markdown",
   "id": "9441c5a9",
   "metadata": {},
   "source": [
    "**As We can see now there is no null values**"
   ]
  },
  {
   "cell_type": "code",
   "execution_count": 66,
   "id": "ac1c6032",
   "metadata": {},
   "outputs": [
    {
     "data": {
      "text/plain": [
       "Index(['age', 'workclass', 'fnlwgt', 'education', 'educational-num',\n",
       "       'marital-status', 'occupation', 'relationship', 'race', 'gender',\n",
       "       'capital-gain', 'capital-loss', 'hours-per-week', 'native-country',\n",
       "       'income'],\n",
       "      dtype='object')"
      ]
     },
     "execution_count": 66,
     "metadata": {},
     "output_type": "execute_result"
    }
   ],
   "source": [
    "df.columns"
   ]
  },
  {
   "cell_type": "code",
   "execution_count": 67,
   "id": "012f888a",
   "metadata": {},
   "outputs": [
    {
     "data": {
      "text/html": [
       "<div>\n",
       "<style scoped>\n",
       "    .dataframe tbody tr th:only-of-type {\n",
       "        vertical-align: middle;\n",
       "    }\n",
       "\n",
       "    .dataframe tbody tr th {\n",
       "        vertical-align: top;\n",
       "    }\n",
       "\n",
       "    .dataframe thead th {\n",
       "        text-align: right;\n",
       "    }\n",
       "</style>\n",
       "<table border=\"1\" class=\"dataframe\">\n",
       "  <thead>\n",
       "    <tr style=\"text-align: right;\">\n",
       "      <th></th>\n",
       "      <th>age</th>\n",
       "      <th>workclass</th>\n",
       "      <th>education</th>\n",
       "      <th>educational-num</th>\n",
       "      <th>marital-status</th>\n",
       "      <th>occupation</th>\n",
       "      <th>relationship</th>\n",
       "      <th>race</th>\n",
       "      <th>gender</th>\n",
       "      <th>hours-per-week</th>\n",
       "      <th>native-country</th>\n",
       "      <th>income</th>\n",
       "    </tr>\n",
       "  </thead>\n",
       "  <tbody>\n",
       "    <tr>\n",
       "      <th>0</th>\n",
       "      <td>25</td>\n",
       "      <td>Private</td>\n",
       "      <td>11th</td>\n",
       "      <td>7</td>\n",
       "      <td>Never-married</td>\n",
       "      <td>Machine-op-inspct</td>\n",
       "      <td>Own-child</td>\n",
       "      <td>Black</td>\n",
       "      <td>Male</td>\n",
       "      <td>40</td>\n",
       "      <td>United-States</td>\n",
       "      <td>&lt;=50K</td>\n",
       "    </tr>\n",
       "    <tr>\n",
       "      <th>1</th>\n",
       "      <td>38</td>\n",
       "      <td>Private</td>\n",
       "      <td>HS-grad</td>\n",
       "      <td>9</td>\n",
       "      <td>Married-civ-spouse</td>\n",
       "      <td>Farming-fishing</td>\n",
       "      <td>Husband</td>\n",
       "      <td>White</td>\n",
       "      <td>Male</td>\n",
       "      <td>50</td>\n",
       "      <td>United-States</td>\n",
       "      <td>&lt;=50K</td>\n",
       "    </tr>\n",
       "    <tr>\n",
       "      <th>2</th>\n",
       "      <td>28</td>\n",
       "      <td>Local-gov</td>\n",
       "      <td>Assoc-acdm</td>\n",
       "      <td>12</td>\n",
       "      <td>Married-civ-spouse</td>\n",
       "      <td>Protective-serv</td>\n",
       "      <td>Husband</td>\n",
       "      <td>White</td>\n",
       "      <td>Male</td>\n",
       "      <td>40</td>\n",
       "      <td>United-States</td>\n",
       "      <td>&gt;50K</td>\n",
       "    </tr>\n",
       "    <tr>\n",
       "      <th>3</th>\n",
       "      <td>44</td>\n",
       "      <td>Private</td>\n",
       "      <td>Some-college</td>\n",
       "      <td>10</td>\n",
       "      <td>Married-civ-spouse</td>\n",
       "      <td>Machine-op-inspct</td>\n",
       "      <td>Husband</td>\n",
       "      <td>Black</td>\n",
       "      <td>Male</td>\n",
       "      <td>40</td>\n",
       "      <td>United-States</td>\n",
       "      <td>&gt;50K</td>\n",
       "    </tr>\n",
       "    <tr>\n",
       "      <th>5</th>\n",
       "      <td>34</td>\n",
       "      <td>Private</td>\n",
       "      <td>10th</td>\n",
       "      <td>6</td>\n",
       "      <td>Never-married</td>\n",
       "      <td>Other-service</td>\n",
       "      <td>Not-in-family</td>\n",
       "      <td>White</td>\n",
       "      <td>Male</td>\n",
       "      <td>30</td>\n",
       "      <td>United-States</td>\n",
       "      <td>&lt;=50K</td>\n",
       "    </tr>\n",
       "  </tbody>\n",
       "</table>\n",
       "</div>"
      ],
      "text/plain": [
       "   age  workclass     education  educational-num      marital-status  \\\n",
       "0   25    Private          11th                7       Never-married   \n",
       "1   38    Private       HS-grad                9  Married-civ-spouse   \n",
       "2   28  Local-gov    Assoc-acdm               12  Married-civ-spouse   \n",
       "3   44    Private  Some-college               10  Married-civ-spouse   \n",
       "5   34    Private          10th                6       Never-married   \n",
       "\n",
       "          occupation   relationship   race gender  hours-per-week  \\\n",
       "0  Machine-op-inspct      Own-child  Black   Male              40   \n",
       "1    Farming-fishing        Husband  White   Male              50   \n",
       "2    Protective-serv        Husband  White   Male              40   \n",
       "3  Machine-op-inspct        Husband  Black   Male              40   \n",
       "5      Other-service  Not-in-family  White   Male              30   \n",
       "\n",
       "  native-country income  \n",
       "0  United-States  <=50K  \n",
       "1  United-States  <=50K  \n",
       "2  United-States   >50K  \n",
       "3  United-States   >50K  \n",
       "5  United-States  <=50K  "
      ]
     },
     "execution_count": 67,
     "metadata": {},
     "output_type": "execute_result"
    }
   ],
   "source": [
    "# We can drop some unneccessary columns to keep our dataset clean\n",
    "df.drop(['fnlwgt','capital-gain','capital-loss'],axis=1,inplace=True)\n",
    "df.head()"
   ]
  },
  {
   "cell_type": "code",
   "execution_count": 68,
   "id": "0ee49ae6",
   "metadata": {},
   "outputs": [],
   "source": [
    "#let's convert the value of the income column to get dummies\n",
    "df['income'] = df['income'].replace({'<=50K': 'low', '>50K': 'high'})"
   ]
  },
  {
   "cell_type": "code",
   "execution_count": 69,
   "id": "f09fc0be",
   "metadata": {},
   "outputs": [],
   "source": [
    "df.loc[df['native-country'] != 'United-States', 'native-country'] = 'Other-country'"
   ]
  },
  {
   "cell_type": "code",
   "execution_count": 70,
   "id": "6202bc51",
   "metadata": {},
   "outputs": [],
   "source": [
    "#Since 72% of the citizens living in USA are White American(note: the U.S. the U.S. Source sensus), we will reduce race category into two categories White and others.It will also helpful when we will do dummies it will reduce the no the columns in the dataset.\n",
    "df.loc[df['race'] != 'White', 'race'] = 'Other'"
   ]
  },
  {
   "cell_type": "code",
   "execution_count": 71,
   "id": "a64d0504",
   "metadata": {},
   "outputs": [
    {
     "data": {
      "text/html": [
       "<div>\n",
       "<style scoped>\n",
       "    .dataframe tbody tr th:only-of-type {\n",
       "        vertical-align: middle;\n",
       "    }\n",
       "\n",
       "    .dataframe tbody tr th {\n",
       "        vertical-align: top;\n",
       "    }\n",
       "\n",
       "    .dataframe thead th {\n",
       "        text-align: right;\n",
       "    }\n",
       "</style>\n",
       "<table border=\"1\" class=\"dataframe\">\n",
       "  <thead>\n",
       "    <tr style=\"text-align: right;\">\n",
       "      <th></th>\n",
       "      <th>age</th>\n",
       "      <th>workclass</th>\n",
       "      <th>education</th>\n",
       "      <th>educational-num</th>\n",
       "      <th>marital-status</th>\n",
       "      <th>occupation</th>\n",
       "      <th>relationship</th>\n",
       "      <th>race</th>\n",
       "      <th>gender</th>\n",
       "      <th>hours-per-week</th>\n",
       "      <th>native-country</th>\n",
       "      <th>income</th>\n",
       "    </tr>\n",
       "  </thead>\n",
       "  <tbody>\n",
       "    <tr>\n",
       "      <th>0</th>\n",
       "      <td>25</td>\n",
       "      <td>Private</td>\n",
       "      <td>11th</td>\n",
       "      <td>7</td>\n",
       "      <td>Never-married</td>\n",
       "      <td>Machine-op-inspct</td>\n",
       "      <td>Own-child</td>\n",
       "      <td>Other</td>\n",
       "      <td>Male</td>\n",
       "      <td>40</td>\n",
       "      <td>United-States</td>\n",
       "      <td>low</td>\n",
       "    </tr>\n",
       "    <tr>\n",
       "      <th>1</th>\n",
       "      <td>38</td>\n",
       "      <td>Private</td>\n",
       "      <td>HS-grad</td>\n",
       "      <td>9</td>\n",
       "      <td>Married-civ-spouse</td>\n",
       "      <td>Farming-fishing</td>\n",
       "      <td>Husband</td>\n",
       "      <td>White</td>\n",
       "      <td>Male</td>\n",
       "      <td>50</td>\n",
       "      <td>United-States</td>\n",
       "      <td>low</td>\n",
       "    </tr>\n",
       "    <tr>\n",
       "      <th>2</th>\n",
       "      <td>28</td>\n",
       "      <td>Local-gov</td>\n",
       "      <td>Assoc-acdm</td>\n",
       "      <td>12</td>\n",
       "      <td>Married-civ-spouse</td>\n",
       "      <td>Protective-serv</td>\n",
       "      <td>Husband</td>\n",
       "      <td>White</td>\n",
       "      <td>Male</td>\n",
       "      <td>40</td>\n",
       "      <td>United-States</td>\n",
       "      <td>high</td>\n",
       "    </tr>\n",
       "    <tr>\n",
       "      <th>3</th>\n",
       "      <td>44</td>\n",
       "      <td>Private</td>\n",
       "      <td>Some-college</td>\n",
       "      <td>10</td>\n",
       "      <td>Married-civ-spouse</td>\n",
       "      <td>Machine-op-inspct</td>\n",
       "      <td>Husband</td>\n",
       "      <td>Other</td>\n",
       "      <td>Male</td>\n",
       "      <td>40</td>\n",
       "      <td>United-States</td>\n",
       "      <td>high</td>\n",
       "    </tr>\n",
       "    <tr>\n",
       "      <th>5</th>\n",
       "      <td>34</td>\n",
       "      <td>Private</td>\n",
       "      <td>10th</td>\n",
       "      <td>6</td>\n",
       "      <td>Never-married</td>\n",
       "      <td>Other-service</td>\n",
       "      <td>Not-in-family</td>\n",
       "      <td>White</td>\n",
       "      <td>Male</td>\n",
       "      <td>30</td>\n",
       "      <td>United-States</td>\n",
       "      <td>low</td>\n",
       "    </tr>\n",
       "  </tbody>\n",
       "</table>\n",
       "</div>"
      ],
      "text/plain": [
       "   age  workclass     education  educational-num      marital-status  \\\n",
       "0   25    Private          11th                7       Never-married   \n",
       "1   38    Private       HS-grad                9  Married-civ-spouse   \n",
       "2   28  Local-gov    Assoc-acdm               12  Married-civ-spouse   \n",
       "3   44    Private  Some-college               10  Married-civ-spouse   \n",
       "5   34    Private          10th                6       Never-married   \n",
       "\n",
       "          occupation   relationship   race gender  hours-per-week  \\\n",
       "0  Machine-op-inspct      Own-child  Other   Male              40   \n",
       "1    Farming-fishing        Husband  White   Male              50   \n",
       "2    Protective-serv        Husband  White   Male              40   \n",
       "3  Machine-op-inspct        Husband  Other   Male              40   \n",
       "5      Other-service  Not-in-family  White   Male              30   \n",
       "\n",
       "  native-country income  \n",
       "0  United-States    low  \n",
       "1  United-States    low  \n",
       "2  United-States   high  \n",
       "3  United-States   high  \n",
       "5  United-States    low  "
      ]
     },
     "execution_count": 71,
     "metadata": {},
     "output_type": "execute_result"
    }
   ],
   "source": [
    "df.head()"
   ]
  },
  {
   "cell_type": "code",
   "execution_count": 72,
   "id": "c8cdc57d",
   "metadata": {},
   "outputs": [
    {
     "data": {
      "text/html": [
       "<div>\n",
       "<style scoped>\n",
       "    .dataframe tbody tr th:only-of-type {\n",
       "        vertical-align: middle;\n",
       "    }\n",
       "\n",
       "    .dataframe tbody tr th {\n",
       "        vertical-align: top;\n",
       "    }\n",
       "\n",
       "    .dataframe thead th {\n",
       "        text-align: right;\n",
       "    }\n",
       "</style>\n",
       "<table border=\"1\" class=\"dataframe\">\n",
       "  <thead>\n",
       "    <tr style=\"text-align: right;\">\n",
       "      <th></th>\n",
       "      <th>Feature</th>\n",
       "      <th>Number of Outliers</th>\n",
       "      <th>Percentage</th>\n",
       "    </tr>\n",
       "  </thead>\n",
       "  <tbody>\n",
       "    <tr>\n",
       "      <th>0</th>\n",
       "      <td>age</td>\n",
       "      <td>269</td>\n",
       "      <td>0.594843</td>\n",
       "    </tr>\n",
       "    <tr>\n",
       "      <th>1</th>\n",
       "      <td>educational-num</td>\n",
       "      <td>294</td>\n",
       "      <td>0.650126</td>\n",
       "    </tr>\n",
       "    <tr>\n",
       "      <th>2</th>\n",
       "      <td>hours-per-week</td>\n",
       "      <td>11899</td>\n",
       "      <td>26.312414</td>\n",
       "    </tr>\n",
       "  </tbody>\n",
       "</table>\n",
       "</div>"
      ],
      "text/plain": [
       "           Feature Number of Outliers  Percentage\n",
       "0              age                269    0.594843\n",
       "1  educational-num                294    0.650126\n",
       "2   hours-per-week              11899   26.312414"
      ]
     },
     "execution_count": 72,
     "metadata": {},
     "output_type": "execute_result"
    }
   ],
   "source": [
    "# Number of Outliers in each Numerical columns\n",
    "\n",
    "numeric_data = df.select_dtypes(['int64','float64']).columns\n",
    "\n",
    "outliers = pd.DataFrame(columns=['Feature','Number of Outliers','Percentage']) # Creating a new dataframe\n",
    "    \n",
    "for column in list(numeric_data): # Iterating thorough each feature \n",
    "   \n",
    "    q1 = df[column].quantile(0.25)  # first quartile\n",
    "    q3 = df[column].quantile(0.75)  # third quartile\n",
    "            \n",
    "    iqr = q3 - q1 #Inter Quantile Range\n",
    "        \n",
    "    lower_value = q1 - (1.5*iqr)        \n",
    "    upper_value = q3 + (1.5*iqr)\n",
    "        \n",
    "     \n",
    "    total_outlier = df[(df[column] < lower_value) | (df[column] > upper_value)].shape[0]    \n",
    "    percent = (total_outlier / len(df[column])) * 100\n",
    "        \n",
    "    outliers = outliers.append({'Feature':column,'Number of Outliers':total_outlier,'Percentage':percent},ignore_index=True)\n",
    "        \n",
    "outliers"
   ]
  },
  {
   "cell_type": "markdown",
   "id": "04d5ff4a",
   "metadata": {},
   "source": [
    "**As we can see in the hours-per-week column there more outliers that we have to treat**"
   ]
  },
  {
   "cell_type": "code",
   "execution_count": 73,
   "id": "7cf41e9c",
   "metadata": {},
   "outputs": [
    {
     "data": {
      "image/png": "[encoded data removed]",
      "text/plain": [
       "<Figure size 720x576 with 1 Axes>"
      ]
     },
     "metadata": {},
     "output_type": "display_data"
    }
   ],
   "source": [
    "# Let's see the boxblot of hours-per-week\n",
    "plt.figure(figsize=(10,8))\n",
    "sns.set_style('darkgrid')\n",
    "sns.boxplot(df['hours-per-week'])\n",
    "plt.show()"
   ]
  },
  {
   "cell_type": "code",
   "execution_count": 74,
   "id": "1b9cf869",
   "metadata": {},
   "outputs": [
    {
     "data": {
      "image/png": "[encoded data removed]",
      "text/plain": [
       "<Figure size 720x576 with 1 Axes>"
      ]
     },
     "metadata": {},
     "output_type": "display_data"
    }
   ],
   "source": [
    "#let's plot a QQ plot to check the normality\n",
    "plt.figure(figsize=(10,8))\n",
    "sns.set_style('darkgrid')\n",
    "stats.probplot(df['hours-per-week'],dist='norm', plot=plt)\n",
    "plt.show()"
   ]
  },
  {
   "cell_type": "code",
   "execution_count": 75,
   "id": "686fe293",
   "metadata": {},
   "outputs": [
    {
     "name": "stdout",
     "output_type": "stream",
     "text": [
      "0.957404248835031\n"
     ]
    }
   ],
   "source": [
    "# Let's use boxcox transformation\n",
    "pr_1 , l = stats.boxcox(df['hours-per-week'])\n",
    "print(l)"
   ]
  },
  {
   "cell_type": "code",
   "execution_count": 76,
   "id": "fc38e8b2",
   "metadata": {},
   "outputs": [
    {
     "data": {
      "image/png": "[encoded data removed]",
      "text/plain": [
       "<Figure size 720x576 with 1 Axes>"
      ]
     },
     "metadata": {},
     "output_type": "display_data"
    }
   ],
   "source": [
    "# Ploting the Q-Q plot to see the normality of the transformed column\n",
    "plt.figure(figsize=(10,8))\n",
    "sns.set_style('darkgrid')\n",
    "stats.probplot(pr_1 , dist='norm' , plot=plt)\n",
    "plt.show()"
   ]
  },
  {
   "cell_type": "markdown",
   "id": "7cce82fd",
   "metadata": {},
   "source": [
    "**From the above plot we can say that box-cox transformation is not helpfull to this column**"
   ]
  },
  {
   "cell_type": "code",
   "execution_count": 77,
   "id": "dd1d9349",
   "metadata": {},
   "outputs": [],
   "source": [
    "# Mean Imputation in column hours-per-week\n",
    "\n",
    "q1 = df['hours-per-week'].quantile(0.25)\n",
    "q3 = df['hours-per-week'].quantile(0.75)\n",
    "iqr = q3-q1\n",
    "Lower_tail = q1 - 1.5 * iqr\n",
    "Upper_tail = q3 + 1.5 * iqr\n",
    "m = np.mean(df['hours-per-week'])\n",
    "for i in df['hours-per-week']:\n",
    "    if i > Upper_tail or i < Lower_tail:\n",
    "            df['hours-per-week'] = df['hours-per-week'].replace(i, m)"
   ]
  },
  {
   "cell_type": "code",
   "execution_count": 78,
   "id": "30f6694c",
   "metadata": {},
   "outputs": [
    {
     "data": {
      "image/png": "[encoded data removed]",
      "text/plain": [
       "<Figure size 720x576 with 1 Axes>"
      ]
     },
     "metadata": {},
     "output_type": "display_data"
    }
   ],
   "source": [
    "# Let's see the boxplot\n",
    "plt.figure(figsize=(10,8))\n",
    "sns.set_style('darkgrid')\n",
    "sns.boxplot(df['hours-per-week'])\n",
    "plt.title(\"Box Plot after mean imputation\")\n",
    "plt.show()"
   ]
  },
  {
   "cell_type": "markdown",
   "id": "f1870c2b",
   "metadata": {},
   "source": [
    "<p style =\"font-size:25px; color:blue\"><b>Conclusion of EDA:</b></p>"
   ]
  },
  {
   "cell_type": "markdown",
   "id": "4bc83b50",
   "metadata": {},
   "source": [
    "1. **There were too much outliers in the columns which were treated well**\n",
    "2. **There were missing values in the dataset as '?' which were treated**\n",
    "3. **The data was pretty much skewed which I handled well**\n",
    "4. **The dataset is now nit and clean to perform the machine learning**"
   ]
  },
  {
   "cell_type": "markdown",
   "id": "56cfd435",
   "metadata": {},
   "source": [
    "<p style =\"font-size:25px; color:blue\"><b>Feature Transformation:</b></p>"
   ]
  },
  {
   "cell_type": "code",
   "execution_count": 79,
   "id": "f296d4c9",
   "metadata": {},
   "outputs": [
    {
     "data": {
      "text/plain": [
       "Index(['age', 'workclass', 'education', 'educational-num', 'marital-status',\n",
       "       'occupation', 'relationship', 'race', 'gender', 'hours-per-week',\n",
       "       'native-country', 'income'],\n",
       "      dtype='object')"
      ]
     },
     "execution_count": 79,
     "metadata": {},
     "output_type": "execute_result"
    }
   ],
   "source": [
    "df.columns"
   ]
  },
  {
   "cell_type": "markdown",
   "id": "059ee01c",
   "metadata": {},
   "source": [
    "<p style =\"font-size:18px; color:brown; text-decoration:underline;\"><b>Column Standardization for Numerical Features:</b></p>"
   ]
  },
  {
   "cell_type": "code",
   "execution_count": 80,
   "id": "eb2d52d3",
   "metadata": {},
   "outputs": [
    {
     "name": "stdout",
     "output_type": "stream",
     "text": [
      "Numerical Columns : ['age', 'educational-num', 'hours-per-week']\n"
     ]
    }
   ],
   "source": [
    "# Numerical Columns\n",
    "numerical_data = df.select_dtypes(['int64','float64'])\n",
    "numerical_cols = numerical_data.columns\n",
    "print('Numerical Columns : {}'.format(list(numerical_cols)))"
   ]
  },
  {
   "cell_type": "code",
   "execution_count": 81,
   "id": "0dbc3d39",
   "metadata": {},
   "outputs": [],
   "source": [
    "# Column standardization using MinMax Scaler\n",
    "from sklearn.preprocessing import MinMaxScaler\n",
    "scaler = MinMaxScaler()"
   ]
  },
  {
   "cell_type": "code",
   "execution_count": 82,
   "id": "1f06eb0b",
   "metadata": {},
   "outputs": [
    {
     "data": {
      "text/html": [
       "<div>\n",
       "<style scoped>\n",
       "    .dataframe tbody tr th:only-of-type {\n",
       "        vertical-align: middle;\n",
       "    }\n",
       "\n",
       "    .dataframe tbody tr th {\n",
       "        vertical-align: top;\n",
       "    }\n",
       "\n",
       "    .dataframe thead th {\n",
       "        text-align: right;\n",
       "    }\n",
       "</style>\n",
       "<table border=\"1\" class=\"dataframe\">\n",
       "  <thead>\n",
       "    <tr style=\"text-align: right;\">\n",
       "      <th></th>\n",
       "      <th>age</th>\n",
       "      <th>educational-num</th>\n",
       "      <th>hours-per-week</th>\n",
       "    </tr>\n",
       "  </thead>\n",
       "  <tbody>\n",
       "    <tr>\n",
       "      <th>0</th>\n",
       "      <td>0.109589</td>\n",
       "      <td>0.400000</td>\n",
       "      <td>0.368421</td>\n",
       "    </tr>\n",
       "    <tr>\n",
       "      <th>1</th>\n",
       "      <td>0.287671</td>\n",
       "      <td>0.533333</td>\n",
       "      <td>0.894737</td>\n",
       "    </tr>\n",
       "    <tr>\n",
       "      <th>2</th>\n",
       "      <td>0.150685</td>\n",
       "      <td>0.733333</td>\n",
       "      <td>0.368421</td>\n",
       "    </tr>\n",
       "    <tr>\n",
       "      <th>3</th>\n",
       "      <td>0.369863</td>\n",
       "      <td>0.600000</td>\n",
       "      <td>0.368421</td>\n",
       "    </tr>\n",
       "    <tr>\n",
       "      <th>4</th>\n",
       "      <td>0.232877</td>\n",
       "      <td>0.333333</td>\n",
       "      <td>0.417790</td>\n",
       "    </tr>\n",
       "  </tbody>\n",
       "</table>\n",
       "</div>"
      ],
      "text/plain": [
       "        age  educational-num  hours-per-week\n",
       "0  0.109589         0.400000        0.368421\n",
       "1  0.287671         0.533333        0.894737\n",
       "2  0.150685         0.733333        0.368421\n",
       "3  0.369863         0.600000        0.368421\n",
       "4  0.232877         0.333333        0.417790"
      ]
     },
     "execution_count": 82,
     "metadata": {},
     "output_type": "execute_result"
    }
   ],
   "source": [
    "numerical = df.select_dtypes(include=['int64', 'float64'])   \n",
    "df_numerical = pd.DataFrame(scaler.fit_transform(numerical),columns = numerical.columns)\n",
    "df_numerical.head()"
   ]
  },
  {
   "cell_type": "markdown",
   "id": "5a6bae48",
   "metadata": {},
   "source": [
    "<p style =\"font-size:18px; color:brown; text-decoration:underline;\"><b>Column Standardization for Categorical Features:</b></p>"
   ]
  },
  {
   "cell_type": "code",
   "execution_count": 83,
   "id": "138a109d",
   "metadata": {},
   "outputs": [],
   "source": [
    "# One Hot Encoding the categorical features\n",
    "from sklearn.preprocessing import OneHotEncoder\n",
    "encoder = OneHotEncoder(drop='first', sparse=False)"
   ]
  },
  {
   "cell_type": "code",
   "execution_count": 84,
   "id": "acc466e8",
   "metadata": {},
   "outputs": [
    {
     "data": {
      "text/html": [
       "<div>\n",
       "<style scoped>\n",
       "    .dataframe tbody tr th:only-of-type {\n",
       "        vertical-align: middle;\n",
       "    }\n",
       "\n",
       "    .dataframe tbody tr th {\n",
       "        vertical-align: top;\n",
       "    }\n",
       "\n",
       "    .dataframe thead th {\n",
       "        text-align: right;\n",
       "    }\n",
       "</style>\n",
       "<table border=\"1\" class=\"dataframe\">\n",
       "  <thead>\n",
       "    <tr style=\"text-align: right;\">\n",
       "      <th></th>\n",
       "      <th>workclass_Local-gov</th>\n",
       "      <th>workclass_Private</th>\n",
       "      <th>workclass_Self-emp-inc</th>\n",
       "      <th>workclass_Self-emp-not-inc</th>\n",
       "      <th>workclass_State-gov</th>\n",
       "      <th>workclass_Without-pay</th>\n",
       "      <th>education_11th</th>\n",
       "      <th>education_12th</th>\n",
       "      <th>education_1st-4th</th>\n",
       "      <th>education_5th-6th</th>\n",
       "      <th>...</th>\n",
       "      <th>occupation_Transport-moving</th>\n",
       "      <th>relationship_Not-in-family</th>\n",
       "      <th>relationship_Other-relative</th>\n",
       "      <th>relationship_Own-child</th>\n",
       "      <th>relationship_Unmarried</th>\n",
       "      <th>relationship_Wife</th>\n",
       "      <th>race_White</th>\n",
       "      <th>gender_Male</th>\n",
       "      <th>native-country_United-States</th>\n",
       "      <th>income_low</th>\n",
       "    </tr>\n",
       "  </thead>\n",
       "  <tbody>\n",
       "    <tr>\n",
       "      <th>0</th>\n",
       "      <td>0.0</td>\n",
       "      <td>1.0</td>\n",
       "      <td>0.0</td>\n",
       "      <td>0.0</td>\n",
       "      <td>0.0</td>\n",
       "      <td>0.0</td>\n",
       "      <td>1.0</td>\n",
       "      <td>0.0</td>\n",
       "      <td>0.0</td>\n",
       "      <td>0.0</td>\n",
       "      <td>...</td>\n",
       "      <td>0.0</td>\n",
       "      <td>0.0</td>\n",
       "      <td>0.0</td>\n",
       "      <td>1.0</td>\n",
       "      <td>0.0</td>\n",
       "      <td>0.0</td>\n",
       "      <td>0.0</td>\n",
       "      <td>1.0</td>\n",
       "      <td>1.0</td>\n",
       "      <td>1.0</td>\n",
       "    </tr>\n",
       "    <tr>\n",
       "      <th>1</th>\n",
       "      <td>0.0</td>\n",
       "      <td>1.0</td>\n",
       "      <td>0.0</td>\n",
       "      <td>0.0</td>\n",
       "      <td>0.0</td>\n",
       "      <td>0.0</td>\n",
       "      <td>0.0</td>\n",
       "      <td>0.0</td>\n",
       "      <td>0.0</td>\n",
       "      <td>0.0</td>\n",
       "      <td>...</td>\n",
       "      <td>0.0</td>\n",
       "      <td>0.0</td>\n",
       "      <td>0.0</td>\n",
       "      <td>0.0</td>\n",
       "      <td>0.0</td>\n",
       "      <td>0.0</td>\n",
       "      <td>1.0</td>\n",
       "      <td>1.0</td>\n",
       "      <td>1.0</td>\n",
       "      <td>1.0</td>\n",
       "    </tr>\n",
       "    <tr>\n",
       "      <th>2</th>\n",
       "      <td>1.0</td>\n",
       "      <td>0.0</td>\n",
       "      <td>0.0</td>\n",
       "      <td>0.0</td>\n",
       "      <td>0.0</td>\n",
       "      <td>0.0</td>\n",
       "      <td>0.0</td>\n",
       "      <td>0.0</td>\n",
       "      <td>0.0</td>\n",
       "      <td>0.0</td>\n",
       "      <td>...</td>\n",
       "      <td>0.0</td>\n",
       "      <td>0.0</td>\n",
       "      <td>0.0</td>\n",
       "      <td>0.0</td>\n",
       "      <td>0.0</td>\n",
       "      <td>0.0</td>\n",
       "      <td>1.0</td>\n",
       "      <td>1.0</td>\n",
       "      <td>1.0</td>\n",
       "      <td>0.0</td>\n",
       "    </tr>\n",
       "    <tr>\n",
       "      <th>3</th>\n",
       "      <td>0.0</td>\n",
       "      <td>1.0</td>\n",
       "      <td>0.0</td>\n",
       "      <td>0.0</td>\n",
       "      <td>0.0</td>\n",
       "      <td>0.0</td>\n",
       "      <td>0.0</td>\n",
       "      <td>0.0</td>\n",
       "      <td>0.0</td>\n",
       "      <td>0.0</td>\n",
       "      <td>...</td>\n",
       "      <td>0.0</td>\n",
       "      <td>0.0</td>\n",
       "      <td>0.0</td>\n",
       "      <td>0.0</td>\n",
       "      <td>0.0</td>\n",
       "      <td>0.0</td>\n",
       "      <td>0.0</td>\n",
       "      <td>1.0</td>\n",
       "      <td>1.0</td>\n",
       "      <td>0.0</td>\n",
       "    </tr>\n",
       "    <tr>\n",
       "      <th>4</th>\n",
       "      <td>0.0</td>\n",
       "      <td>1.0</td>\n",
       "      <td>0.0</td>\n",
       "      <td>0.0</td>\n",
       "      <td>0.0</td>\n",
       "      <td>0.0</td>\n",
       "      <td>0.0</td>\n",
       "      <td>0.0</td>\n",
       "      <td>0.0</td>\n",
       "      <td>0.0</td>\n",
       "      <td>...</td>\n",
       "      <td>0.0</td>\n",
       "      <td>1.0</td>\n",
       "      <td>0.0</td>\n",
       "      <td>0.0</td>\n",
       "      <td>0.0</td>\n",
       "      <td>0.0</td>\n",
       "      <td>1.0</td>\n",
       "      <td>1.0</td>\n",
       "      <td>1.0</td>\n",
       "      <td>1.0</td>\n",
       "    </tr>\n",
       "  </tbody>\n",
       "</table>\n",
       "<p>5 rows × 49 columns</p>\n",
       "</div>"
      ],
      "text/plain": [
       "   workclass_Local-gov  workclass_Private  workclass_Self-emp-inc  \\\n",
       "0                  0.0                1.0                     0.0   \n",
       "1                  0.0                1.0                     0.0   \n",
       "2                  1.0                0.0                     0.0   \n",
       "3                  0.0                1.0                     0.0   \n",
       "4                  0.0                1.0                     0.0   \n",
       "\n",
       "   workclass_Self-emp-not-inc  workclass_State-gov  workclass_Without-pay  \\\n",
       "0                         0.0                  0.0                    0.0   \n",
       "1                         0.0                  0.0                    0.0   \n",
       "2                         0.0                  0.0                    0.0   \n",
       "3                         0.0                  0.0                    0.0   \n",
       "4                         0.0                  0.0                    0.0   \n",
       "\n",
       "   education_11th  education_12th  education_1st-4th  education_5th-6th  ...  \\\n",
       "0             1.0             0.0                0.0                0.0  ...   \n",
       "1             0.0             0.0                0.0                0.0  ...   \n",
       "2             0.0             0.0                0.0                0.0  ...   \n",
       "3             0.0             0.0                0.0                0.0  ...   \n",
       "4             0.0             0.0                0.0                0.0  ...   \n",
       "\n",
       "   occupation_Transport-moving  relationship_Not-in-family  \\\n",
       "0                          0.0                         0.0   \n",
       "1                          0.0                         0.0   \n",
       "2                          0.0                         0.0   \n",
       "3                          0.0                         0.0   \n",
       "4                          0.0                         1.0   \n",
       "\n",
       "   relationship_Other-relative  relationship_Own-child  \\\n",
       "0                          0.0                     1.0   \n",
       "1                          0.0                     0.0   \n",
       "2                          0.0                     0.0   \n",
       "3                          0.0                     0.0   \n",
       "4                          0.0                     0.0   \n",
       "\n",
       "   relationship_Unmarried  relationship_Wife  race_White  gender_Male  \\\n",
       "0                     0.0                0.0         0.0          1.0   \n",
       "1                     0.0                0.0         1.0          1.0   \n",
       "2                     0.0                0.0         1.0          1.0   \n",
       "3                     0.0                0.0         0.0          1.0   \n",
       "4                     0.0                0.0         1.0          1.0   \n",
       "\n",
       "   native-country_United-States  income_low  \n",
       "0                           1.0         1.0  \n",
       "1                           1.0         1.0  \n",
       "2                           1.0         0.0  \n",
       "3                           1.0         0.0  \n",
       "4                           1.0         1.0  \n",
       "\n",
       "[5 rows x 49 columns]"
      ]
     },
     "execution_count": 84,
     "metadata": {},
     "output_type": "execute_result"
    }
   ],
   "source": [
    "categorical = df.select_dtypes('object')\n",
    "df_categorical = pd.DataFrame(encoder.fit_transform(categorical), \n",
    "                      columns=encoder.get_feature_names(categorical.columns))\n",
    "df_categorical.head()"
   ]
  },
  {
   "cell_type": "code",
   "execution_count": 85,
   "id": "9a401c5d",
   "metadata": {},
   "outputs": [
    {
     "data": {
      "text/html": [
       "<div>\n",
       "<style scoped>\n",
       "    .dataframe tbody tr th:only-of-type {\n",
       "        vertical-align: middle;\n",
       "    }\n",
       "\n",
       "    .dataframe tbody tr th {\n",
       "        vertical-align: top;\n",
       "    }\n",
       "\n",
       "    .dataframe thead th {\n",
       "        text-align: right;\n",
       "    }\n",
       "</style>\n",
       "<table border=\"1\" class=\"dataframe\">\n",
       "  <thead>\n",
       "    <tr style=\"text-align: right;\">\n",
       "      <th></th>\n",
       "      <th>age</th>\n",
       "      <th>educational-num</th>\n",
       "      <th>hours-per-week</th>\n",
       "      <th>workclass_Local-gov</th>\n",
       "      <th>workclass_Private</th>\n",
       "      <th>workclass_Self-emp-inc</th>\n",
       "      <th>workclass_Self-emp-not-inc</th>\n",
       "      <th>workclass_State-gov</th>\n",
       "      <th>workclass_Without-pay</th>\n",
       "      <th>education_11th</th>\n",
       "      <th>...</th>\n",
       "      <th>occupation_Transport-moving</th>\n",
       "      <th>relationship_Not-in-family</th>\n",
       "      <th>relationship_Other-relative</th>\n",
       "      <th>relationship_Own-child</th>\n",
       "      <th>relationship_Unmarried</th>\n",
       "      <th>relationship_Wife</th>\n",
       "      <th>race_White</th>\n",
       "      <th>gender_Male</th>\n",
       "      <th>native-country_United-States</th>\n",
       "      <th>income_low</th>\n",
       "    </tr>\n",
       "  </thead>\n",
       "  <tbody>\n",
       "    <tr>\n",
       "      <th>0</th>\n",
       "      <td>0.109589</td>\n",
       "      <td>0.400000</td>\n",
       "      <td>0.368421</td>\n",
       "      <td>0.0</td>\n",
       "      <td>1.0</td>\n",
       "      <td>0.0</td>\n",
       "      <td>0.0</td>\n",
       "      <td>0.0</td>\n",
       "      <td>0.0</td>\n",
       "      <td>1.0</td>\n",
       "      <td>...</td>\n",
       "      <td>0.0</td>\n",
       "      <td>0.0</td>\n",
       "      <td>0.0</td>\n",
       "      <td>1.0</td>\n",
       "      <td>0.0</td>\n",
       "      <td>0.0</td>\n",
       "      <td>0.0</td>\n",
       "      <td>1.0</td>\n",
       "      <td>1.0</td>\n",
       "      <td>1.0</td>\n",
       "    </tr>\n",
       "    <tr>\n",
       "      <th>1</th>\n",
       "      <td>0.287671</td>\n",
       "      <td>0.533333</td>\n",
       "      <td>0.894737</td>\n",
       "      <td>0.0</td>\n",
       "      <td>1.0</td>\n",
       "      <td>0.0</td>\n",
       "      <td>0.0</td>\n",
       "      <td>0.0</td>\n",
       "      <td>0.0</td>\n",
       "      <td>0.0</td>\n",
       "      <td>...</td>\n",
       "      <td>0.0</td>\n",
       "      <td>0.0</td>\n",
       "      <td>0.0</td>\n",
       "      <td>0.0</td>\n",
       "      <td>0.0</td>\n",
       "      <td>0.0</td>\n",
       "      <td>1.0</td>\n",
       "      <td>1.0</td>\n",
       "      <td>1.0</td>\n",
       "      <td>1.0</td>\n",
       "    </tr>\n",
       "    <tr>\n",
       "      <th>2</th>\n",
       "      <td>0.150685</td>\n",
       "      <td>0.733333</td>\n",
       "      <td>0.368421</td>\n",
       "      <td>1.0</td>\n",
       "      <td>0.0</td>\n",
       "      <td>0.0</td>\n",
       "      <td>0.0</td>\n",
       "      <td>0.0</td>\n",
       "      <td>0.0</td>\n",
       "      <td>0.0</td>\n",
       "      <td>...</td>\n",
       "      <td>0.0</td>\n",
       "      <td>0.0</td>\n",
       "      <td>0.0</td>\n",
       "      <td>0.0</td>\n",
       "      <td>0.0</td>\n",
       "      <td>0.0</td>\n",
       "      <td>1.0</td>\n",
       "      <td>1.0</td>\n",
       "      <td>1.0</td>\n",
       "      <td>0.0</td>\n",
       "    </tr>\n",
       "    <tr>\n",
       "      <th>3</th>\n",
       "      <td>0.369863</td>\n",
       "      <td>0.600000</td>\n",
       "      <td>0.368421</td>\n",
       "      <td>0.0</td>\n",
       "      <td>1.0</td>\n",
       "      <td>0.0</td>\n",
       "      <td>0.0</td>\n",
       "      <td>0.0</td>\n",
       "      <td>0.0</td>\n",
       "      <td>0.0</td>\n",
       "      <td>...</td>\n",
       "      <td>0.0</td>\n",
       "      <td>0.0</td>\n",
       "      <td>0.0</td>\n",
       "      <td>0.0</td>\n",
       "      <td>0.0</td>\n",
       "      <td>0.0</td>\n",
       "      <td>0.0</td>\n",
       "      <td>1.0</td>\n",
       "      <td>1.0</td>\n",
       "      <td>0.0</td>\n",
       "    </tr>\n",
       "    <tr>\n",
       "      <th>4</th>\n",
       "      <td>0.232877</td>\n",
       "      <td>0.333333</td>\n",
       "      <td>0.417790</td>\n",
       "      <td>0.0</td>\n",
       "      <td>1.0</td>\n",
       "      <td>0.0</td>\n",
       "      <td>0.0</td>\n",
       "      <td>0.0</td>\n",
       "      <td>0.0</td>\n",
       "      <td>0.0</td>\n",
       "      <td>...</td>\n",
       "      <td>0.0</td>\n",
       "      <td>1.0</td>\n",
       "      <td>0.0</td>\n",
       "      <td>0.0</td>\n",
       "      <td>0.0</td>\n",
       "      <td>0.0</td>\n",
       "      <td>1.0</td>\n",
       "      <td>1.0</td>\n",
       "      <td>1.0</td>\n",
       "      <td>1.0</td>\n",
       "    </tr>\n",
       "  </tbody>\n",
       "</table>\n",
       "<p>5 rows × 52 columns</p>\n",
       "</div>"
      ],
      "text/plain": [
       "        age  educational-num  hours-per-week  workclass_Local-gov  \\\n",
       "0  0.109589         0.400000        0.368421                  0.0   \n",
       "1  0.287671         0.533333        0.894737                  0.0   \n",
       "2  0.150685         0.733333        0.368421                  1.0   \n",
       "3  0.369863         0.600000        0.368421                  0.0   \n",
       "4  0.232877         0.333333        0.417790                  0.0   \n",
       "\n",
       "   workclass_Private  workclass_Self-emp-inc  workclass_Self-emp-not-inc  \\\n",
       "0                1.0                     0.0                         0.0   \n",
       "1                1.0                     0.0                         0.0   \n",
       "2                0.0                     0.0                         0.0   \n",
       "3                1.0                     0.0                         0.0   \n",
       "4                1.0                     0.0                         0.0   \n",
       "\n",
       "   workclass_State-gov  workclass_Without-pay  education_11th  ...  \\\n",
       "0                  0.0                    0.0             1.0  ...   \n",
       "1                  0.0                    0.0             0.0  ...   \n",
       "2                  0.0                    0.0             0.0  ...   \n",
       "3                  0.0                    0.0             0.0  ...   \n",
       "4                  0.0                    0.0             0.0  ...   \n",
       "\n",
       "   occupation_Transport-moving  relationship_Not-in-family  \\\n",
       "0                          0.0                         0.0   \n",
       "1                          0.0                         0.0   \n",
       "2                          0.0                         0.0   \n",
       "3                          0.0                         0.0   \n",
       "4                          0.0                         1.0   \n",
       "\n",
       "   relationship_Other-relative  relationship_Own-child  \\\n",
       "0                          0.0                     1.0   \n",
       "1                          0.0                     0.0   \n",
       "2                          0.0                     0.0   \n",
       "3                          0.0                     0.0   \n",
       "4                          0.0                     0.0   \n",
       "\n",
       "   relationship_Unmarried  relationship_Wife  race_White  gender_Male  \\\n",
       "0                     0.0                0.0         0.0          1.0   \n",
       "1                     0.0                0.0         1.0          1.0   \n",
       "2                     0.0                0.0         1.0          1.0   \n",
       "3                     0.0                0.0         0.0          1.0   \n",
       "4                     0.0                0.0         1.0          1.0   \n",
       "\n",
       "   native-country_United-States  income_low  \n",
       "0                           1.0         1.0  \n",
       "1                           1.0         1.0  \n",
       "2                           1.0         0.0  \n",
       "3                           1.0         0.0  \n",
       "4                           1.0         1.0  \n",
       "\n",
       "[5 rows x 52 columns]"
      ]
     },
     "execution_count": 85,
     "metadata": {},
     "output_type": "execute_result"
    }
   ],
   "source": [
    "#Final dataset \n",
    "final_df = pd.concat([df_numerical,df_categorical], axis = 1)\n",
    "final_df.head()"
   ]
  },
  {
   "cell_type": "markdown",
   "id": "f97be071",
   "metadata": {},
   "source": [
    "<p style =\"font-size:25px; color:blue\"><b>Splitting the columns:</b></p>"
   ]
  },
  {
   "cell_type": "code",
   "execution_count": 86,
   "id": "0327ef4c",
   "metadata": {},
   "outputs": [],
   "source": [
    "x = final_df.iloc[:,:-1] \n",
    "y = final_df.iloc[:,-1] #target variable"
   ]
  },
  {
   "cell_type": "code",
   "execution_count": 87,
   "id": "1f7eafab",
   "metadata": {},
   "outputs": [
    {
     "data": {
      "text/html": [
       "<div>\n",
       "<style scoped>\n",
       "    .dataframe tbody tr th:only-of-type {\n",
       "        vertical-align: middle;\n",
       "    }\n",
       "\n",
       "    .dataframe tbody tr th {\n",
       "        vertical-align: top;\n",
       "    }\n",
       "\n",
       "    .dataframe thead th {\n",
       "        text-align: right;\n",
       "    }\n",
       "</style>\n",
       "<table border=\"1\" class=\"dataframe\">\n",
       "  <thead>\n",
       "    <tr style=\"text-align: right;\">\n",
       "      <th></th>\n",
       "      <th>age</th>\n",
       "      <th>educational-num</th>\n",
       "      <th>hours-per-week</th>\n",
       "      <th>workclass_Local-gov</th>\n",
       "      <th>workclass_Private</th>\n",
       "      <th>workclass_Self-emp-inc</th>\n",
       "      <th>workclass_Self-emp-not-inc</th>\n",
       "      <th>workclass_State-gov</th>\n",
       "      <th>workclass_Without-pay</th>\n",
       "      <th>education_11th</th>\n",
       "      <th>...</th>\n",
       "      <th>occupation_Tech-support</th>\n",
       "      <th>occupation_Transport-moving</th>\n",
       "      <th>relationship_Not-in-family</th>\n",
       "      <th>relationship_Other-relative</th>\n",
       "      <th>relationship_Own-child</th>\n",
       "      <th>relationship_Unmarried</th>\n",
       "      <th>relationship_Wife</th>\n",
       "      <th>race_White</th>\n",
       "      <th>gender_Male</th>\n",
       "      <th>native-country_United-States</th>\n",
       "    </tr>\n",
       "  </thead>\n",
       "  <tbody>\n",
       "    <tr>\n",
       "      <th>0</th>\n",
       "      <td>0.109589</td>\n",
       "      <td>0.400000</td>\n",
       "      <td>0.368421</td>\n",
       "      <td>0.0</td>\n",
       "      <td>1.0</td>\n",
       "      <td>0.0</td>\n",
       "      <td>0.0</td>\n",
       "      <td>0.0</td>\n",
       "      <td>0.0</td>\n",
       "      <td>1.0</td>\n",
       "      <td>...</td>\n",
       "      <td>0.0</td>\n",
       "      <td>0.0</td>\n",
       "      <td>0.0</td>\n",
       "      <td>0.0</td>\n",
       "      <td>1.0</td>\n",
       "      <td>0.0</td>\n",
       "      <td>0.0</td>\n",
       "      <td>0.0</td>\n",
       "      <td>1.0</td>\n",
       "      <td>1.0</td>\n",
       "    </tr>\n",
       "    <tr>\n",
       "      <th>1</th>\n",
       "      <td>0.287671</td>\n",
       "      <td>0.533333</td>\n",
       "      <td>0.894737</td>\n",
       "      <td>0.0</td>\n",
       "      <td>1.0</td>\n",
       "      <td>0.0</td>\n",
       "      <td>0.0</td>\n",
       "      <td>0.0</td>\n",
       "      <td>0.0</td>\n",
       "      <td>0.0</td>\n",
       "      <td>...</td>\n",
       "      <td>0.0</td>\n",
       "      <td>0.0</td>\n",
       "      <td>0.0</td>\n",
       "      <td>0.0</td>\n",
       "      <td>0.0</td>\n",
       "      <td>0.0</td>\n",
       "      <td>0.0</td>\n",
       "      <td>1.0</td>\n",
       "      <td>1.0</td>\n",
       "      <td>1.0</td>\n",
       "    </tr>\n",
       "    <tr>\n",
       "      <th>2</th>\n",
       "      <td>0.150685</td>\n",
       "      <td>0.733333</td>\n",
       "      <td>0.368421</td>\n",
       "      <td>1.0</td>\n",
       "      <td>0.0</td>\n",
       "      <td>0.0</td>\n",
       "      <td>0.0</td>\n",
       "      <td>0.0</td>\n",
       "      <td>0.0</td>\n",
       "      <td>0.0</td>\n",
       "      <td>...</td>\n",
       "      <td>0.0</td>\n",
       "      <td>0.0</td>\n",
       "      <td>0.0</td>\n",
       "      <td>0.0</td>\n",
       "      <td>0.0</td>\n",
       "      <td>0.0</td>\n",
       "      <td>0.0</td>\n",
       "      <td>1.0</td>\n",
       "      <td>1.0</td>\n",
       "      <td>1.0</td>\n",
       "    </tr>\n",
       "    <tr>\n",
       "      <th>3</th>\n",
       "      <td>0.369863</td>\n",
       "      <td>0.600000</td>\n",
       "      <td>0.368421</td>\n",
       "      <td>0.0</td>\n",
       "      <td>1.0</td>\n",
       "      <td>0.0</td>\n",
       "      <td>0.0</td>\n",
       "      <td>0.0</td>\n",
       "      <td>0.0</td>\n",
       "      <td>0.0</td>\n",
       "      <td>...</td>\n",
       "      <td>0.0</td>\n",
       "      <td>0.0</td>\n",
       "      <td>0.0</td>\n",
       "      <td>0.0</td>\n",
       "      <td>0.0</td>\n",
       "      <td>0.0</td>\n",
       "      <td>0.0</td>\n",
       "      <td>0.0</td>\n",
       "      <td>1.0</td>\n",
       "      <td>1.0</td>\n",
       "    </tr>\n",
       "    <tr>\n",
       "      <th>4</th>\n",
       "      <td>0.232877</td>\n",
       "      <td>0.333333</td>\n",
       "      <td>0.417790</td>\n",
       "      <td>0.0</td>\n",
       "      <td>1.0</td>\n",
       "      <td>0.0</td>\n",
       "      <td>0.0</td>\n",
       "      <td>0.0</td>\n",
       "      <td>0.0</td>\n",
       "      <td>0.0</td>\n",
       "      <td>...</td>\n",
       "      <td>0.0</td>\n",
       "      <td>0.0</td>\n",
       "      <td>1.0</td>\n",
       "      <td>0.0</td>\n",
       "      <td>0.0</td>\n",
       "      <td>0.0</td>\n",
       "      <td>0.0</td>\n",
       "      <td>1.0</td>\n",
       "      <td>1.0</td>\n",
       "      <td>1.0</td>\n",
       "    </tr>\n",
       "    <tr>\n",
       "      <th>...</th>\n",
       "      <td>...</td>\n",
       "      <td>...</td>\n",
       "      <td>...</td>\n",
       "      <td>...</td>\n",
       "      <td>...</td>\n",
       "      <td>...</td>\n",
       "      <td>...</td>\n",
       "      <td>...</td>\n",
       "      <td>...</td>\n",
       "      <td>...</td>\n",
       "      <td>...</td>\n",
       "      <td>...</td>\n",
       "      <td>...</td>\n",
       "      <td>...</td>\n",
       "      <td>...</td>\n",
       "      <td>...</td>\n",
       "      <td>...</td>\n",
       "      <td>...</td>\n",
       "      <td>...</td>\n",
       "      <td>...</td>\n",
       "      <td>...</td>\n",
       "    </tr>\n",
       "    <tr>\n",
       "      <th>45217</th>\n",
       "      <td>0.136986</td>\n",
       "      <td>0.733333</td>\n",
       "      <td>0.263158</td>\n",
       "      <td>0.0</td>\n",
       "      <td>1.0</td>\n",
       "      <td>0.0</td>\n",
       "      <td>0.0</td>\n",
       "      <td>0.0</td>\n",
       "      <td>0.0</td>\n",
       "      <td>0.0</td>\n",
       "      <td>...</td>\n",
       "      <td>1.0</td>\n",
       "      <td>0.0</td>\n",
       "      <td>0.0</td>\n",
       "      <td>0.0</td>\n",
       "      <td>0.0</td>\n",
       "      <td>0.0</td>\n",
       "      <td>1.0</td>\n",
       "      <td>1.0</td>\n",
       "      <td>0.0</td>\n",
       "      <td>1.0</td>\n",
       "    </tr>\n",
       "    <tr>\n",
       "      <th>45218</th>\n",
       "      <td>0.315068</td>\n",
       "      <td>0.533333</td>\n",
       "      <td>0.368421</td>\n",
       "      <td>0.0</td>\n",
       "      <td>1.0</td>\n",
       "      <td>0.0</td>\n",
       "      <td>0.0</td>\n",
       "      <td>0.0</td>\n",
       "      <td>0.0</td>\n",
       "      <td>0.0</td>\n",
       "      <td>...</td>\n",
       "      <td>0.0</td>\n",
       "      <td>0.0</td>\n",
       "      <td>0.0</td>\n",
       "      <td>0.0</td>\n",
       "      <td>0.0</td>\n",
       "      <td>0.0</td>\n",
       "      <td>0.0</td>\n",
       "      <td>1.0</td>\n",
       "      <td>1.0</td>\n",
       "      <td>1.0</td>\n",
       "    </tr>\n",
       "    <tr>\n",
       "      <th>45219</th>\n",
       "      <td>0.561644</td>\n",
       "      <td>0.533333</td>\n",
       "      <td>0.368421</td>\n",
       "      <td>0.0</td>\n",
       "      <td>1.0</td>\n",
       "      <td>0.0</td>\n",
       "      <td>0.0</td>\n",
       "      <td>0.0</td>\n",
       "      <td>0.0</td>\n",
       "      <td>0.0</td>\n",
       "      <td>...</td>\n",
       "      <td>0.0</td>\n",
       "      <td>0.0</td>\n",
       "      <td>0.0</td>\n",
       "      <td>0.0</td>\n",
       "      <td>0.0</td>\n",
       "      <td>1.0</td>\n",
       "      <td>0.0</td>\n",
       "      <td>1.0</td>\n",
       "      <td>0.0</td>\n",
       "      <td>1.0</td>\n",
       "    </tr>\n",
       "    <tr>\n",
       "      <th>45220</th>\n",
       "      <td>0.068493</td>\n",
       "      <td>0.533333</td>\n",
       "      <td>0.417790</td>\n",
       "      <td>0.0</td>\n",
       "      <td>1.0</td>\n",
       "      <td>0.0</td>\n",
       "      <td>0.0</td>\n",
       "      <td>0.0</td>\n",
       "      <td>0.0</td>\n",
       "      <td>0.0</td>\n",
       "      <td>...</td>\n",
       "      <td>0.0</td>\n",
       "      <td>0.0</td>\n",
       "      <td>0.0</td>\n",
       "      <td>0.0</td>\n",
       "      <td>1.0</td>\n",
       "      <td>0.0</td>\n",
       "      <td>0.0</td>\n",
       "      <td>1.0</td>\n",
       "      <td>1.0</td>\n",
       "      <td>1.0</td>\n",
       "    </tr>\n",
       "    <tr>\n",
       "      <th>45221</th>\n",
       "      <td>0.479452</td>\n",
       "      <td>0.533333</td>\n",
       "      <td>0.368421</td>\n",
       "      <td>0.0</td>\n",
       "      <td>0.0</td>\n",
       "      <td>1.0</td>\n",
       "      <td>0.0</td>\n",
       "      <td>0.0</td>\n",
       "      <td>0.0</td>\n",
       "      <td>0.0</td>\n",
       "      <td>...</td>\n",
       "      <td>0.0</td>\n",
       "      <td>0.0</td>\n",
       "      <td>0.0</td>\n",
       "      <td>0.0</td>\n",
       "      <td>0.0</td>\n",
       "      <td>0.0</td>\n",
       "      <td>1.0</td>\n",
       "      <td>1.0</td>\n",
       "      <td>0.0</td>\n",
       "      <td>1.0</td>\n",
       "    </tr>\n",
       "  </tbody>\n",
       "</table>\n",
       "<p>45222 rows × 51 columns</p>\n",
       "</div>"
      ],
      "text/plain": [
       "            age  educational-num  hours-per-week  workclass_Local-gov  \\\n",
       "0      0.109589         0.400000        0.368421                  0.0   \n",
       "1      0.287671         0.533333        0.894737                  0.0   \n",
       "2      0.150685         0.733333        0.368421                  1.0   \n",
       "3      0.369863         0.600000        0.368421                  0.0   \n",
       "4      0.232877         0.333333        0.417790                  0.0   \n",
       "...         ...              ...             ...                  ...   \n",
       "45217  0.136986         0.733333        0.263158                  0.0   \n",
       "45218  0.315068         0.533333        0.368421                  0.0   \n",
       "45219  0.561644         0.533333        0.368421                  0.0   \n",
       "45220  0.068493         0.533333        0.417790                  0.0   \n",
       "45221  0.479452         0.533333        0.368421                  0.0   \n",
       "\n",
       "       workclass_Private  workclass_Self-emp-inc  workclass_Self-emp-not-inc  \\\n",
       "0                    1.0                     0.0                         0.0   \n",
       "1                    1.0                     0.0                         0.0   \n",
       "2                    0.0                     0.0                         0.0   \n",
       "3                    1.0                     0.0                         0.0   \n",
       "4                    1.0                     0.0                         0.0   \n",
       "...                  ...                     ...                         ...   \n",
       "45217                1.0                     0.0                         0.0   \n",
       "45218                1.0                     0.0                         0.0   \n",
       "45219                1.0                     0.0                         0.0   \n",
       "45220                1.0                     0.0                         0.0   \n",
       "45221                0.0                     1.0                         0.0   \n",
       "\n",
       "       workclass_State-gov  workclass_Without-pay  education_11th  ...  \\\n",
       "0                      0.0                    0.0             1.0  ...   \n",
       "1                      0.0                    0.0             0.0  ...   \n",
       "2                      0.0                    0.0             0.0  ...   \n",
       "3                      0.0                    0.0             0.0  ...   \n",
       "4                      0.0                    0.0             0.0  ...   \n",
       "...                    ...                    ...             ...  ...   \n",
       "45217                  0.0                    0.0             0.0  ...   \n",
       "45218                  0.0                    0.0             0.0  ...   \n",
       "45219                  0.0                    0.0             0.0  ...   \n",
       "45220                  0.0                    0.0             0.0  ...   \n",
       "45221                  0.0                    0.0             0.0  ...   \n",
       "\n",
       "       occupation_Tech-support  occupation_Transport-moving  \\\n",
       "0                          0.0                          0.0   \n",
       "1                          0.0                          0.0   \n",
       "2                          0.0                          0.0   \n",
       "3                          0.0                          0.0   \n",
       "4                          0.0                          0.0   \n",
       "...                        ...                          ...   \n",
       "45217                      1.0                          0.0   \n",
       "45218                      0.0                          0.0   \n",
       "45219                      0.0                          0.0   \n",
       "45220                      0.0                          0.0   \n",
       "45221                      0.0                          0.0   \n",
       "\n",
       "       relationship_Not-in-family  relationship_Other-relative  \\\n",
       "0                             0.0                          0.0   \n",
       "1                             0.0                          0.0   \n",
       "2                             0.0                          0.0   \n",
       "3                             0.0                          0.0   \n",
       "4                             1.0                          0.0   \n",
       "...                           ...                          ...   \n",
       "45217                         0.0                          0.0   \n",
       "45218                         0.0                          0.0   \n",
       "45219                         0.0                          0.0   \n",
       "45220                         0.0                          0.0   \n",
       "45221                         0.0                          0.0   \n",
       "\n",
       "       relationship_Own-child  relationship_Unmarried  relationship_Wife  \\\n",
       "0                         1.0                     0.0                0.0   \n",
       "1                         0.0                     0.0                0.0   \n",
       "2                         0.0                     0.0                0.0   \n",
       "3                         0.0                     0.0                0.0   \n",
       "4                         0.0                     0.0                0.0   \n",
       "...                       ...                     ...                ...   \n",
       "45217                     0.0                     0.0                1.0   \n",
       "45218                     0.0                     0.0                0.0   \n",
       "45219                     0.0                     1.0                0.0   \n",
       "45220                     1.0                     0.0                0.0   \n",
       "45221                     0.0                     0.0                1.0   \n",
       "\n",
       "       race_White  gender_Male  native-country_United-States  \n",
       "0             0.0          1.0                           1.0  \n",
       "1             1.0          1.0                           1.0  \n",
       "2             1.0          1.0                           1.0  \n",
       "3             0.0          1.0                           1.0  \n",
       "4             1.0          1.0                           1.0  \n",
       "...           ...          ...                           ...  \n",
       "45217         1.0          0.0                           1.0  \n",
       "45218         1.0          1.0                           1.0  \n",
       "45219         1.0          0.0                           1.0  \n",
       "45220         1.0          1.0                           1.0  \n",
       "45221         1.0          0.0                           1.0  \n",
       "\n",
       "[45222 rows x 51 columns]"
      ]
     },
     "execution_count": 87,
     "metadata": {},
     "output_type": "execute_result"
    }
   ],
   "source": [
    "x"
   ]
  },
  {
   "cell_type": "code",
   "execution_count": 88,
   "id": "679f8a42",
   "metadata": {},
   "outputs": [
    {
     "data": {
      "text/plain": [
       "0        1.0\n",
       "1        1.0\n",
       "2        0.0\n",
       "3        0.0\n",
       "4        1.0\n",
       "        ... \n",
       "45217    1.0\n",
       "45218    0.0\n",
       "45219    1.0\n",
       "45220    1.0\n",
       "45221    0.0\n",
       "Name: income_low, Length: 45222, dtype: float64"
      ]
     },
     "execution_count": 88,
     "metadata": {},
     "output_type": "execute_result"
    }
   ],
   "source": [
    "y"
   ]
  },
  {
   "cell_type": "markdown",
   "id": "4b1914db",
   "metadata": {},
   "source": [
    "<p style =\"font-size:25px; color:blue\"><b>Splitting the dataset into Train and Test data:</b></p>"
   ]
  },
  {
   "cell_type": "code",
   "execution_count": 89,
   "id": "cda8cb0e",
   "metadata": {},
   "outputs": [],
   "source": [
    "from sklearn.model_selection import train_test_split\n",
    "\n",
    "x_train , x_test , y_train , y_test = train_test_split(x, y, test_size = 0.3)"
   ]
  },
  {
   "cell_type": "markdown",
   "id": "aa02561d",
   "metadata": {},
   "source": [
    "<p style =\"font-size:25px; color:blue\"><b>Applying the Machine Learning Models:</b></p>"
   ]
  },
  {
   "cell_type": "markdown",
   "id": "95916b02",
   "metadata": {},
   "source": [
    "<p style =\"font-size:18px; color:brown; text-decoration:underline;\"><b>Logistic Regression:</b></p>"
   ]
  },
  {
   "cell_type": "code",
   "execution_count": 109,
   "id": "5c17df77",
   "metadata": {},
   "outputs": [
    {
     "data": {
      "text/plain": [
       "83.0"
      ]
     },
     "execution_count": 109,
     "metadata": {},
     "output_type": "execute_result"
    }
   ],
   "source": [
    "from sklearn.linear_model import LogisticRegression\n",
    "\n",
    "Logistic_model = LogisticRegression()\n",
    "\n",
    "Logistic_model.fit(x_train, y_train)\n",
    "\n",
    "y_pred_logistic = Logistic_model.predict(x_test)\n",
    "\n",
    "from sklearn import metrics\n",
    "\n",
    "Logistic_Acc= round(metrics.accuracy_score(y_test, y_pred_logistic),2)*100\n",
    "\n",
    "Logistic_Acc"
   ]
  },
  {
   "cell_type": "markdown",
   "id": "c6ef0c9c",
   "metadata": {},
   "source": [
    "<p style =\"font-size:18px; color:brown; text-decoration:underline;\"><b>DecisionTreeClassifier:</b></p>"
   ]
  },
  {
   "cell_type": "code",
   "execution_count": 108,
   "id": "8003fec0",
   "metadata": {},
   "outputs": [
    {
     "data": {
      "text/plain": [
       "78.0"
      ]
     },
     "execution_count": 108,
     "metadata": {},
     "output_type": "execute_result"
    }
   ],
   "source": [
    "from sklearn.tree import DecisionTreeClassifier\n",
    "\n",
    "DTC_model = DecisionTreeClassifier(criterion='entropy',random_state=0)\n",
    "\n",
    "DTC_model.fit(x_train,y_train)\n",
    "\n",
    "y_pred_DTC = DTC_model.predict(x_test)\n",
    "\n",
    "DTC_Acc = round(metrics.accuracy_score(y_test, y_pred_DTC),2)*100\n",
    "\n",
    "DTC_Acc"
   ]
  },
  {
   "cell_type": "markdown",
   "id": "efcf4f2d",
   "metadata": {},
   "source": [
    "<p style =\"font-size:18px; color:brown; text-decoration:underline;\"><b>K Nearest Neighbour Classifier:</b></p>"
   ]
  },
  {
   "cell_type": "code",
   "execution_count": 107,
   "id": "7be19a44",
   "metadata": {},
   "outputs": [
    {
     "data": {
      "text/plain": [
       "80.0"
      ]
     },
     "execution_count": 107,
     "metadata": {},
     "output_type": "execute_result"
    }
   ],
   "source": [
    "from sklearn.neighbors import KNeighborsClassifier\n",
    "\n",
    "knn_model=KNeighborsClassifier(n_neighbors=3)\n",
    "\n",
    "knn_model.fit(x_train,y_train)\n",
    "\n",
    "y_pred_knn=knn_model.predict(x_test)\n",
    "\n",
    "Knn_Acc = round(knn_model.score(x_test,y_test),2)*100\n",
    "\n",
    "Knn_Acc"
   ]
  },
  {
   "cell_type": "markdown",
   "id": "84f17a66",
   "metadata": {},
   "source": [
    "<p style =\"font-size:18px; color:brown; text-decoration:underline;\"><b>Random Forest Classifier:</b></p>"
   ]
  },
  {
   "cell_type": "code",
   "execution_count": 105,
   "id": "4b1ee910",
   "metadata": {},
   "outputs": [
    {
     "data": {
      "text/plain": [
       "81.0"
      ]
     },
     "execution_count": 105,
     "metadata": {},
     "output_type": "execute_result"
    }
   ],
   "source": [
    "from sklearn.ensemble import RandomForestClassifier\n",
    "\n",
    "RF_model = RandomForestClassifier()\n",
    "\n",
    "RF_model.fit(x_train, y_train)\n",
    "\n",
    "y_pred_RF = RF_model.predict(x_test)\n",
    "\n",
    "RF_Acc = round(RF_model.score(x_test,y_test),2)*100\n",
    "\n",
    "RF_Acc"
   ]
  },
  {
   "cell_type": "markdown",
   "id": "756d559d",
   "metadata": {},
   "source": [
    "<p style =\"font-size:18px; color:brown; text-decoration:underline;\"><b>Extra Tree Classifier:</b></p>"
   ]
  },
  {
   "cell_type": "code",
   "execution_count": 104,
   "id": "50c232fc",
   "metadata": {},
   "outputs": [
    {
     "data": {
      "text/plain": [
       "79.0"
      ]
     },
     "execution_count": 104,
     "metadata": {},
     "output_type": "execute_result"
    }
   ],
   "source": [
    "from sklearn.ensemble import ExtraTreesClassifier\n",
    "\n",
    "ETC_model = ExtraTreesClassifier(n_estimators=100, random_state=0)\n",
    "\n",
    "ETC_model.fit(x_train, y_train)\n",
    "\n",
    "y_pred_ETC = ETC_model.predict(x_test)\n",
    "\n",
    "ETC_Acc = round(ETC_model.score(x_test,y_test),2)*100\n",
    "\n",
    "ETC_Acc"
   ]
  },
  {
   "cell_type": "markdown",
   "id": "dcd11f1c",
   "metadata": {},
   "source": [
    "<p style =\"font-size:18px; color:brown; text-decoration:underline;\"><b>Gradient Boosting Classifier:</b></p>"
   ]
  },
  {
   "cell_type": "code",
   "execution_count": 103,
   "id": "00cbe701",
   "metadata": {},
   "outputs": [
    {
     "data": {
      "text/plain": [
       "83.0"
      ]
     },
     "execution_count": 103,
     "metadata": {},
     "output_type": "execute_result"
    }
   ],
   "source": [
    "from sklearn.ensemble import GradientBoostingClassifier\n",
    "\n",
    "GBC_model = GradientBoostingClassifier(random_state = 0)\n",
    "\n",
    "GBC_model.fit(x_train, y_train)\n",
    "\n",
    "GBC_Acc = round(GBC_model.score(x_test,y_test),2)*100\n",
    "\n",
    "GBC_Acc"
   ]
  },
  {
   "cell_type": "markdown",
   "id": "96634d01",
   "metadata": {},
   "source": [
    "<p style =\"font-size:25px; color:blue\"><b>Performance of each Model:</b></p>"
   ]
  },
  {
   "cell_type": "code",
   "execution_count": 110,
   "id": "4a7280bc",
   "metadata": {},
   "outputs": [
    {
     "data": {
      "text/html": [
       "<div>\n",
       "<style scoped>\n",
       "    .dataframe tbody tr th:only-of-type {\n",
       "        vertical-align: middle;\n",
       "    }\n",
       "\n",
       "    .dataframe tbody tr th {\n",
       "        vertical-align: top;\n",
       "    }\n",
       "\n",
       "    .dataframe thead th {\n",
       "        text-align: right;\n",
       "    }\n",
       "</style>\n",
       "<table border=\"1\" class=\"dataframe\">\n",
       "  <thead>\n",
       "    <tr style=\"text-align: right;\">\n",
       "      <th></th>\n",
       "      <th>Score</th>\n",
       "    </tr>\n",
       "  </thead>\n",
       "  <tbody>\n",
       "    <tr>\n",
       "      <th>Logistic Regression</th>\n",
       "      <td>83.0</td>\n",
       "    </tr>\n",
       "    <tr>\n",
       "      <th>GradientBoostingClassifier</th>\n",
       "      <td>83.0</td>\n",
       "    </tr>\n",
       "    <tr>\n",
       "      <th>RandomForestClassifier</th>\n",
       "      <td>81.0</td>\n",
       "    </tr>\n",
       "    <tr>\n",
       "      <th>KNeighborsClassifier</th>\n",
       "      <td>80.0</td>\n",
       "    </tr>\n",
       "    <tr>\n",
       "      <th>ExtraTreesClassifier</th>\n",
       "      <td>79.0</td>\n",
       "    </tr>\n",
       "    <tr>\n",
       "      <th>DecisionTreeClassifier</th>\n",
       "      <td>78.0</td>\n",
       "    </tr>\n",
       "  </tbody>\n",
       "</table>\n",
       "</div>"
      ],
      "text/plain": [
       "                            Score\n",
       "Logistic Regression          83.0\n",
       "GradientBoostingClassifier   83.0\n",
       "RandomForestClassifier       81.0\n",
       "KNeighborsClassifier         80.0\n",
       "ExtraTreesClassifier         79.0\n",
       "DecisionTreeClassifier       78.0"
      ]
     },
     "execution_count": 110,
     "metadata": {},
     "output_type": "execute_result"
    }
   ],
   "source": [
    "models = {\n",
    "    'Logistic Regression':Logistic_Acc,\n",
    "    'DecisionTreeClassifier':DTC_Acc,\n",
    "    'KNeighborsClassifier':Knn_Acc,\n",
    "    'RandomForestClassifier':RF_Acc,\n",
    "    'ExtraTreesClassifier':ETC_Acc,\n",
    "    'GradientBoostingClassifier':GBC_Acc,\n",
    "}\n",
    "\n",
    "models_score = pd.DataFrame.from_dict(data = models, orient='index',columns=['Score'])\n",
    "\n",
    "models_score.sort_values(by='Score', ascending=False)"
   ]
  },
  {
   "cell_type": "code",
   "execution_count": null,
   "id": "e3c9cdce",
   "metadata": {},
   "outputs": [],
   "source": []
  }
 ],
 "metadata": {
  "kernelspec": {
   "display_name": "Python 3",
   "language": "python",
   "name": "python3"
  },
  "language_info": {
   "codemirror_mode": {
    "name": "ipython",
    "version": 3
   },
   "file_extension": ".py",
   "mimetype": "text/x-python",
   "name": "python",
   "nbconvert_exporter": "python",
   "pygments_lexer": "ipython3",
   "version": "3.8.8"
  }
 },
 "nbformat": 4,
 "nbformat_minor": 5
}
